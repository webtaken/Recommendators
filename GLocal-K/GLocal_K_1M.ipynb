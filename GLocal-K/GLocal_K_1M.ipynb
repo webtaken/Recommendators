{
 "cells": [
  {
   "cell_type": "code",
   "execution_count": null,
   "metadata": {
    "id": "ty3gYQgtnwFA"
   },
   "outputs": [],
   "source": [
    "# Ejecutar solo en caso usar google colab\n",
    "from google.colab import drive\n",
    "drive.mount('/content/drive')"
   ]
  },
  {
   "cell_type": "code",
   "execution_count": 1,
   "metadata": {
    "id": "nl2tU6kL8Ot3"
   },
   "outputs": [],
   "source": [
    "#%tensorflow_version 1.x       <--     Solo cuando se usa google colab \n",
    "from time import time\n",
    "from scipy.sparse import csc_matrix\n",
    "import tensorflow as tf\n",
    "import numpy as np\n",
    "import h5py"
   ]
  },
  {
   "cell_type": "code",
   "execution_count": 2,
   "metadata": {
    "id": "pcyWCv_WvSKC"
   },
   "outputs": [
    {
     "name": "stdout",
     "output_type": "stream",
     "text": [
      "1.15.0\n"
     ]
    }
   ],
   "source": [
    "print(tf.__version__)"
   ]
  },
  {
   "cell_type": "markdown",
   "metadata": {
    "id": "k4A9uU1WloQ2"
   },
   "source": [
    "# Funciones para la carga de los datos"
   ]
  },
  {
   "cell_type": "code",
   "execution_count": 3,
   "metadata": {
    "id": "P3e8Xg3us8g7"
   },
   "outputs": [],
   "source": [
    "def load_data_1m(path='./', delimiter='::', frac=0.1, seed=1234):\n",
    "    # Loading the dataset for Movielens1M\n",
    "    tic = time()\n",
    "    print('reading data...')\n",
    "    data = np.loadtxt(path+'movielens_1m_dataset.dat', skiprows=0, delimiter=delimiter).astype('int32')\n",
    "    print('taken', time() - tic, 'seconds')\n",
    "\n",
    "    n_u = np.unique(data[:,0]).size  # num of users\n",
    "    n_m = np.unique(data[:,1]).size  # num of movies\n",
    "    n_r = data.shape[0]  # num of ratings\n",
    "\n",
    "    udict = {}\n",
    "    for i, u in enumerate(np.unique(data[:,0]).tolist()):\n",
    "        udict[u] = i\n",
    "    mdict = {}\n",
    "    for i, m in enumerate(np.unique(data[:,1]).tolist()):\n",
    "        mdict[m] = i\n",
    "\n",
    "    np.random.seed(seed)\n",
    "    idx = np.arange(n_r)\n",
    "    np.random.shuffle(idx)\n",
    "\n",
    "    train_r = np.zeros((n_m, n_u), dtype='float32')\n",
    "    test_r = np.zeros((n_m, n_u), dtype='float32')\n",
    "\n",
    "    for i in range(n_r):\n",
    "        u_id = data[idx[i], 0]\n",
    "        m_id = data[idx[i], 1]\n",
    "        r = data[idx[i], 2]\n",
    "\n",
    "        if i < int(frac * n_r):\n",
    "            test_r[mdict[m_id], udict[u_id]] = r\n",
    "        else:\n",
    "            train_r[mdict[m_id], udict[u_id]] = r\n",
    "\n",
    "    train_m = np.greater(train_r, 1e-12).astype('float32')  # masks indicating non-zero entries\n",
    "    test_m = np.greater(test_r, 1e-12).astype('float32')\n",
    "\n",
    "    print('data matrix loaded')\n",
    "    print('num of users: {}'.format(n_u))\n",
    "    print('num of movies: {}'.format(n_m))\n",
    "    print('num of training ratings: {}'.format(n_r - int(frac * n_r)))\n",
    "    print('num of test ratings: {}'.format(int(frac * n_r)))\n",
    "\n",
    "    return n_m, n_u, train_r, train_m, test_r, test_m"
   ]
  },
  {
   "cell_type": "markdown",
   "metadata": {
    "id": "E_8kEkg9mlIW"
   },
   "source": [
    "# Cargar los datos"
   ]
  },
  {
   "cell_type": "code",
   "execution_count": 4,
   "metadata": {
    "id": "0fkA1WpmipzF"
   },
   "outputs": [],
   "source": [
    "# Inserta el path del directorio de datos por ti mismo (p.ej., '/content/.../data')\n",
    "# .-^-._.-^-._.-^-._.-^-._.-^-._.-^-._.-^-._.-^-._.-^-._.-^-._\n",
    "data_path = 'data'\n",
    "# .-^-._.-^-._.-^-._.-^-._.-^-._.-^-._.-^-._.-^-._.-^-._.-^-._"
   ]
  },
  {
   "cell_type": "code",
   "execution_count": 5,
   "metadata": {
    "id": "ijlu0lXQioYM"
   },
   "outputs": [],
   "source": [
    "# Seleccionaremos solo el dataset de 'ML-1M'\n",
    "# .-^-._.-^-._.-^-._.-^-._.-^-._.-^-._.-^-._.-^-._.-^-._.-^-._\n",
    "dataset = 'ML-1M'\n",
    "# .-^-._.-^-._.-^-._.-^-._.-^-._.-^-._.-^-._.-^-._.-^-._.-^-._"
   ]
  },
  {
   "cell_type": "code",
   "execution_count": 6,
   "metadata": {
    "id": "sJqSSY33mgkw"
   },
   "outputs": [
    {
     "name": "stdout",
     "output_type": "stream",
     "text": [
      "reading data...\n",
      "taken 5.750434398651123 seconds\n",
      "data matrix loaded\n",
      "num of users: 6040\n",
      "num of movies: 3706\n",
      "num of training ratings: 900189\n",
      "num of test ratings: 100020\n"
     ]
    }
   ],
   "source": [
    "# Data Load\n",
    "try:\n",
    "    if dataset == 'ML-1M':\n",
    "        path = data_path + '/MovieLens_1M/'\n",
    "        n_m, n_u, train_r, train_m, test_r, test_m = load_data_1m(path=path, delimiter='::', frac=0.1, seed=1234)\n",
    "\n",
    "    else:\n",
    "        raise ValueError\n",
    "\n",
    "except ValueError:\n",
    "    print('Error: Unable to load data')"
   ]
  },
  {
   "cell_type": "markdown",
   "metadata": {
    "id": "wQMtA9yml-gp"
   },
   "source": [
    "# Configuración de los hiperparámetros\n"
   ]
  },
  {
   "cell_type": "code",
   "execution_count": 8,
   "metadata": {
    "id": "nGCdp_FlobOK"
   },
   "outputs": [],
   "source": [
    "# Configuraciones de los parámetros comunes\n",
    "n_hid = 500 # Capas intermedias de dimensión 500 para el AE (Autoencoder).\n",
    "n_dim = 5 # Vectores de dimensión 5 para u_{i}, v_{j} para el kernel RBF.\n",
    "n_layers = 2 # Número de capas del AE\n",
    "gk_size = 3 # Capa de convolución de 3x3"
   ]
  },
  {
   "cell_type": "code",
   "execution_count": 9,
   "metadata": {
    "id": "344bwGB0cWXp"
   },
   "outputs": [],
   "source": [
    "# Diferentes hiperparámetros configuraciones para cada dataset\n",
    "if dataset == 'ML-100K':\n",
    "    lambda_2 = 20.  # l2 regularisation\n",
    "    lambda_s = 0.006\n",
    "    iter_p = 5  # optimisation\n",
    "    iter_f = 5\n",
    "    epoch_p = 5  # 30 training epoch\n",
    "    epoch_f = 10 # 60\n",
    "    dot_scale = 1  # scaled dot product\n",
    "\n",
    "elif dataset == 'ML-1M':\n",
    "    lambda_2 = 70.\n",
    "    lambda_s = 0.018\n",
    "    iter_p = 50\n",
    "    iter_f = 10\n",
    "    epoch_p = 20\n",
    "    epoch_f = 30\n",
    "    dot_scale = 0.5"
   ]
  },
  {
   "cell_type": "code",
   "execution_count": 10,
   "metadata": {
    "id": "b94aimX3nAMI"
   },
   "outputs": [
    {
     "name": "stdout",
     "output_type": "stream",
     "text": [
      "WARNING:tensorflow:From /tmp/ipykernel_11730/2682195965.py:1: The name tf.placeholder is deprecated. Please use tf.compat.v1.placeholder instead.\n",
      "\n"
     ]
    }
   ],
   "source": [
    "R = tf.placeholder(\"float\", [n_m, n_u])"
   ]
  },
  {
   "cell_type": "markdown",
   "metadata": {
    "id": "5sWtU4-pmDDT"
   },
   "source": [
    "# Network Function"
   ]
  },
  {
   "cell_type": "code",
   "execution_count": 11,
   "metadata": {
    "id": "wX2wREO09zde"
   },
   "outputs": [],
   "source": [
    "def local_kernel(u, v):\n",
    "\n",
    "    dist = tf.norm(u - v, ord=2, axis=2)\n",
    "    hat = tf.maximum(0., 1. - dist**2)\n",
    "\n",
    "    return hat"
   ]
  },
  {
   "cell_type": "code",
   "execution_count": 12,
   "metadata": {
    "id": "c88l9LYr9175"
   },
   "outputs": [],
   "source": [
    "def kernel_layer(x, n_hid=n_hid, n_dim=n_dim, activation=tf.nn.sigmoid, lambda_s=lambda_s, lambda_2=lambda_2, name=''):\n",
    "\n",
    "    with tf.variable_scope(name, reuse=tf.AUTO_REUSE):\n",
    "        W = tf.get_variable('W', [x.shape[1], n_hid])\n",
    "        n_in = x.get_shape().as_list()[1]\n",
    "        u = tf.get_variable('u', initializer=tf.random.truncated_normal([n_in, 1, n_dim], 0., 1e-3))\n",
    "        v = tf.get_variable('v', initializer=tf.random.truncated_normal([1, n_hid, n_dim], 0., 1e-3))\n",
    "        b = tf.get_variable('b', [n_hid])\n",
    "\n",
    "    w_hat = local_kernel(u, v)\n",
    "    \n",
    "    sparse_reg = tf.contrib.layers.l2_regularizer(lambda_s)\n",
    "    sparse_reg_term = tf.contrib.layers.apply_regularization(sparse_reg, [w_hat])\n",
    "    \n",
    "    l2_reg = tf.contrib.layers.l2_regularizer(lambda_2)\n",
    "    l2_reg_term = tf.contrib.layers.apply_regularization(l2_reg, [W])\n",
    "\n",
    "    W_eff = W * w_hat  # Local kernelised weight matrix\n",
    "    y = tf.matmul(x, W_eff) + b\n",
    "    y = activation(y)\n",
    "\n",
    "    return y, sparse_reg_term + l2_reg_term"
   ]
  },
  {
   "cell_type": "code",
   "execution_count": 13,
   "metadata": {
    "id": "rlb95FmRVATa"
   },
   "outputs": [],
   "source": [
    "def global_kernel(input, gk_size, dot_scale):\n",
    "\n",
    "    avg_pooling = tf.reduce_mean(input, axis=1)  # Item (axis=1) based average pooling\n",
    "    avg_pooling = tf.reshape(avg_pooling, [1, -1])\n",
    "    n_kernel = avg_pooling.shape[1].value\n",
    "\n",
    "    conv_kernel = tf.get_variable('conv_kernel', initializer=tf.random.truncated_normal([n_kernel, gk_size**2], stddev=0.1))\n",
    "    gk = tf.matmul(avg_pooling, conv_kernel) * dot_scale  # Scaled dot product\n",
    "    gk = tf.reshape(gk, [gk_size, gk_size, 1, 1])\n",
    "\n",
    "    return gk"
   ]
  },
  {
   "cell_type": "code",
   "execution_count": 14,
   "metadata": {
    "id": "jTLi_65XzIbH"
   },
   "outputs": [],
   "source": [
    "def global_conv(input, W):\n",
    "\n",
    "    input = tf.reshape(input, [1, input.shape[0], input.shape[1], 1])\n",
    "    conv2d = tf.nn.relu(tf.nn.conv2d(input, W, strides=[1,1,1,1], padding='SAME'))\n",
    "\n",
    "    return tf.reshape(conv2d, [conv2d.shape[1], conv2d.shape[2]])"
   ]
  },
  {
   "cell_type": "markdown",
   "metadata": {
    "id": "f8sQCwrSmKG4"
   },
   "source": [
    "# Network Instantiation"
   ]
  },
  {
   "cell_type": "markdown",
   "metadata": {
    "id": "zOtWj1SCo1RW"
   },
   "source": [
    "## Pre-training"
   ]
  },
  {
   "cell_type": "code",
   "execution_count": 15,
   "metadata": {
    "id": "7teUrgWagpW0"
   },
   "outputs": [
    {
     "name": "stdout",
     "output_type": "stream",
     "text": [
      "WARNING:tensorflow:From /tmp/ipykernel_11730/1127187019.py:3: The name tf.variable_scope is deprecated. Please use tf.compat.v1.variable_scope instead.\n",
      "\n",
      "WARNING:tensorflow:From /tmp/ipykernel_11730/1127187019.py:3: The name tf.AUTO_REUSE is deprecated. Please use tf.compat.v1.AUTO_REUSE instead.\n",
      "\n",
      "WARNING:tensorflow:From /tmp/ipykernel_11730/1127187019.py:4: The name tf.get_variable is deprecated. Please use tf.compat.v1.get_variable instead.\n",
      "\n",
      "WARNING:tensorflow:\n",
      "The TensorFlow contrib module will not be included in TensorFlow 2.0.\n",
      "For more information, please see:\n",
      "  * https://github.com/tensorflow/community/blob/master/rfcs/20180907-contrib-sunset.md\n",
      "  * https://github.com/tensorflow/addons\n",
      "  * https://github.com/tensorflow/io (for I/O related ops)\n",
      "If you depend on functionality not listed there, please file an issue.\n",
      "\n",
      "WARNING:tensorflow:From /home/saul/anaconda3/envs/GLocal-K/lib/python3.7/site-packages/tensorflow_core/python/ops/math_grad.py:1424: where (from tensorflow.python.ops.array_ops) is deprecated and will be removed in a future version.\n",
      "Instructions for updating:\n",
      "Use tf.where in 2.0, which has the same broadcast rule as np.where\n"
     ]
    }
   ],
   "source": [
    "y = R\n",
    "reg_losses = None\n",
    "\n",
    "for i in range(n_layers):\n",
    "    y, reg_loss = kernel_layer(y, name=str(i))\n",
    "    reg_losses = reg_loss if reg_losses is None else reg_losses + reg_loss\n",
    "\n",
    "pred_p, reg_loss = kernel_layer(y, n_u, activation=tf.identity, name='out')\n",
    "reg_losses = reg_losses + reg_loss\n",
    "\n",
    "# L2 loss\n",
    "diff = train_m * (train_r - pred_p)\n",
    "sqE = tf.nn.l2_loss(diff)\n",
    "loss_p = sqE + reg_losses\n",
    "\n",
    "optimizer_p = tf.contrib.opt.ScipyOptimizerInterface(loss_p, options={'disp': True, 'maxiter': iter_p, 'maxcor': 10}, method='L-BFGS-B')"
   ]
  },
  {
   "cell_type": "markdown",
   "metadata": {
    "id": "4IEBsNhNo4Cj"
   },
   "source": [
    "## Fine-tuning"
   ]
  },
  {
   "cell_type": "code",
   "execution_count": 16,
   "metadata": {
    "id": "OiTXqnN6zLXQ"
   },
   "outputs": [],
   "source": [
    "y = R\n",
    "reg_losses = None\n",
    "\n",
    "for i in range(n_layers):\n",
    "    y, _ = kernel_layer(y, name=str(i))\n",
    "\n",
    "y_dash, _ = kernel_layer(y, n_u, activation=tf.identity, name='out')\n",
    "\n",
    "gk = global_kernel(y_dash, gk_size, dot_scale)  # Global kernel\n",
    "y_hat = global_conv(train_r, gk)  # Global kernel-based rating matrix\n",
    "\n",
    "for i in range(n_layers):\n",
    "    y_hat, reg_loss = kernel_layer(y_hat, name=str(i))\n",
    "    reg_losses = reg_loss if reg_losses is None else reg_losses + reg_loss\n",
    "\n",
    "pred_f, reg_loss = kernel_layer(y_hat, n_u, activation=tf.identity, name='out')\n",
    "reg_losses = reg_losses + reg_loss\n",
    "\n",
    "# L2 loss\n",
    "diff = train_m * (train_r - pred_f)\n",
    "sqE = tf.nn.l2_loss(diff)\n",
    "loss_f = sqE + reg_losses\n",
    "\n",
    "optimizer_f = tf.contrib.opt.ScipyOptimizerInterface(loss_f, options={'disp': True, 'maxiter': iter_f, 'maxcor': 10}, method='L-BFGS-B')"
   ]
  },
  {
   "cell_type": "markdown",
   "metadata": {
    "id": "sETwz58aK6y6"
   },
   "source": [
    "# Código para la evaluación"
   ]
  },
  {
   "cell_type": "code",
   "execution_count": 17,
   "metadata": {
    "id": "vyReXxgac3KH"
   },
   "outputs": [],
   "source": [
    "def dcg_k(score_label, k):\n",
    "    dcg, i = 0., 0\n",
    "    for s in score_label:\n",
    "        if i < k:\n",
    "            dcg += (2**s[1]-1) / np.log2(2+i)\n",
    "            i += 1\n",
    "    return dcg"
   ]
  },
  {
   "cell_type": "code",
   "execution_count": 18,
   "metadata": {
    "id": "jwsSR-8ZdGWo"
   },
   "outputs": [],
   "source": [
    "def ndcg_k(y_hat, y, k):\n",
    "    score_label = np.stack([y_hat, y], axis=1).tolist()\n",
    "    score_label = sorted(score_label, key=lambda d:d[0], reverse=True)\n",
    "    score_label_ = sorted(score_label, key=lambda d:d[1], reverse=True)\n",
    "    norm, i = 0., 0\n",
    "    for s in score_label_:\n",
    "        if i < k:\n",
    "            norm += (2**s[1]-1) / np.log2(2+i)\n",
    "            i += 1\n",
    "    dcg = dcg_k(score_label, k)\n",
    "    return dcg / norm"
   ]
  },
  {
   "cell_type": "code",
   "execution_count": 25,
   "metadata": {
    "id": "yy9eQS51pbhj"
   },
   "outputs": [],
   "source": [
    "def call_ndcg(y_hat, y):\n",
    "    ndcg_sum, num = 0, 0\n",
    "    y_hat, y = y_hat.T, y.T\n",
    "    n_users = y.shape[0]\n",
    "    for i in range(n_users):\n",
    "        y_hat_i = y_hat[i][np.where(y[i])]\n",
    "        y_i = y[i][np.where(y[i])]\n",
    "\n",
    "        if y_i.shape[0] < 2:\n",
    "            continue\n",
    "\n",
    "        ndcg_sum += ndcg_k(y_hat_i, y_i, y_i.shape[0])  # user-wise calculation\n",
    "        num += 1\n",
    "\n",
    "    return ndcg_sum / num"
   ]
  },
  {
   "cell_type": "markdown",
   "metadata": {
    "id": "RXXQjeMxmYEC"
   },
   "source": [
    "# Entrenamiento y Ciclo de pruebas"
   ]
  },
  {
   "cell_type": "code",
   "execution_count": 23,
   "metadata": {
    "id": "UZ35Zoha-Eue"
   },
   "outputs": [
    {
     "name": "stderr",
     "output_type": "stream",
     "text": [
      " This problem is unconstrained.\n"
     ]
    },
    {
     "name": "stdout",
     "output_type": "stream",
     "text": [
      "RUNNING THE L-BFGS-B CODE\n",
      "\n",
      "           * * *\n",
      "\n",
      "Machine precision = 2.220D-16\n",
      " N =      1214373     M =           10\n",
      "\n",
      "At X0         0 variables are exactly at the bounds\n",
      "\n",
      "At iterate    0    f=  5.81179D+05    |proj g|=  1.99744D+03\n",
      "\n",
      "At iterate    1    f=  4.45894D+05    |proj g|=  1.05155D+03\n",
      "\n",
      "At iterate    2    f=  1.95071D+05    |proj g|=  6.35699D+02\n",
      "\n",
      "At iterate    3    f=  1.37085D+05    |proj g|=  5.38479D+02\n",
      "\n",
      "At iterate    4    f=  9.52853D+04    |proj g|=  5.45393D+02\n",
      "\n",
      "At iterate    5    f=  8.40318D+04    |proj g|=  3.59152D+02\n",
      "\n",
      "           * * *\n",
      "\n",
      "Tit   = total number of iterations\n",
      "Tnf   = total number of function evaluations\n",
      "Tnint = total number of segments explored during Cauchy searches\n",
      "Skip  = number of BFGS updates skipped\n",
      "Nact  = number of active bounds at final generalized Cauchy point\n",
      "Projg = norm of the final projected gradient\n",
      "F     = final function value\n",
      "\n",
      "           * * *\n",
      "\n",
      "   N    Tit     Tnf  Tnint  Skip  Nact     Projg        F\n",
      "*****      5      7      1     0     0   3.592D+02   8.403D+04\n",
      "  F =   84031.757812500000     \n",
      "\n",
      "STOP: TOTAL NO. of ITERATIONS REACHED LIMIT                 \n",
      "INFO:tensorflow:Optimization terminated with:\n",
      "  Message: STOP: TOTAL NO. of ITERATIONS REACHED LIMIT\n",
      "  Objective function value: 84031.757812\n",
      "  Number of iterations: 5\n",
      "  Number of functions evaluations: 7\n",
      ".-^-._.-^-._.-^-._.-^-._.-^-._.-^-._.-^-._.-^-._.-^-._.-^-._.-^-._.-^-._\n",
      "PRE-TRAINING\n",
      "Epoch: 1 test rmse: 1.3888019 train rmse: 1.2382283\n",
      "Time: 5.413937568664551 seconds\n",
      "Time cumulative: 5.413937568664551 seconds\n",
      ".-^-._.-^-._.-^-._.-^-._.-^-._.-^-._.-^-._.-^-._.-^-._.-^-._.-^-._.-^-._\n"
     ]
    },
    {
     "name": "stderr",
     "output_type": "stream",
     "text": [
      " This problem is unconstrained.\n"
     ]
    },
    {
     "name": "stdout",
     "output_type": "stream",
     "text": [
      "RUNNING THE L-BFGS-B CODE\n",
      "\n",
      "           * * *\n",
      "\n",
      "Machine precision = 2.220D-16\n",
      " N =      1214373     M =           10\n",
      "\n",
      "At X0         0 variables are exactly at the bounds\n",
      "\n",
      "At iterate    0    f=  8.40318D+04    |proj g|=  3.59152D+02\n",
      "\n",
      "At iterate    1    f=  7.92264D+04    |proj g|=  2.11722D+03\n",
      "\n",
      "At iterate    2    f=  7.15352D+04    |proj g|=  1.87025D+02\n",
      "\n",
      "At iterate    3    f=  6.81626D+04    |proj g|=  5.44687D+02\n",
      "\n",
      "At iterate    4    f=  6.48088D+04    |proj g|=  4.00274D+02\n",
      "\n",
      "At iterate    5    f=  6.31233D+04    |proj g|=  3.39555D+02\n",
      "\n",
      "           * * *\n",
      "\n",
      "Tit   = total number of iterations\n",
      "Tnf   = total number of function evaluations\n",
      "Tnint = total number of segments explored during Cauchy searches\n",
      "Skip  = number of BFGS updates skipped\n",
      "Nact  = number of active bounds at final generalized Cauchy point\n",
      "Projg = norm of the final projected gradient\n",
      "F     = final function value\n",
      "\n",
      "           * * *\n",
      "\n",
      "   N    Tit     Tnf  Tnint  Skip  Nact     Projg        F\n",
      "*****      5      6      1     0     0   3.396D+02   6.312D+04\n",
      "  F =   63123.324218750000     \n",
      "\n",
      "STOP: TOTAL NO. of ITERATIONS REACHED LIMIT                 \n",
      "INFO:tensorflow:Optimization terminated with:\n",
      "  Message: STOP: TOTAL NO. of ITERATIONS REACHED LIMIT\n",
      "  Objective function value: 63123.324219\n",
      "  Number of iterations: 5\n",
      "  Number of functions evaluations: 6\n",
      ".-^-._.-^-._.-^-._.-^-._.-^-._.-^-._.-^-._.-^-._.-^-._.-^-._.-^-._.-^-._\n",
      "PRE-TRAINING\n",
      "Epoch: 2 test rmse: 1.0846053 train rmse: 1.0148846\n",
      "Time: 3.9755687713623047 seconds\n",
      "Time cumulative: 9.389506340026855 seconds\n",
      ".-^-._.-^-._.-^-._.-^-._.-^-._.-^-._.-^-._.-^-._.-^-._.-^-._.-^-._.-^-._\n",
      "RUNNING THE L-BFGS-B CODE\n",
      "\n",
      "           * * *\n",
      "\n",
      "Machine precision = 2.220D-16\n",
      " N =      1214373     M =           10\n",
      "\n",
      "At X0         0 variables are exactly at the bounds\n",
      "\n",
      "At iterate    0    f=  6.31233D+04    |proj g|=  3.39555D+02\n"
     ]
    },
    {
     "name": "stderr",
     "output_type": "stream",
     "text": [
      " This problem is unconstrained.\n"
     ]
    },
    {
     "name": "stdout",
     "output_type": "stream",
     "text": [
      "\n",
      "At iterate    1    f=  6.27580D+04    |proj g|=  2.33893D+02\n",
      "\n",
      "At iterate    2    f=  6.25318D+04    |proj g|=  1.64683D+02\n",
      "\n",
      "At iterate    3    f=  6.14575D+04    |proj g|=  1.60869D+02\n",
      "\n",
      "At iterate    4    f=  6.11930D+04    |proj g|=  2.48327D+02\n",
      "\n",
      "At iterate    5    f=  6.09396D+04    |proj g|=  1.94728D+02\n",
      "\n",
      "           * * *\n",
      "\n",
      "Tit   = total number of iterations\n",
      "Tnf   = total number of function evaluations\n",
      "Tnint = total number of segments explored during Cauchy searches\n",
      "Skip  = number of BFGS updates skipped\n",
      "Nact  = number of active bounds at final generalized Cauchy point\n",
      "Projg = norm of the final projected gradient\n",
      "F     = final function value\n",
      "\n",
      "           * * *\n",
      "\n",
      "   N    Tit     Tnf  Tnint  Skip  Nact     Projg        F\n",
      "*****      5      8      1     0     0   1.947D+02   6.094D+04\n",
      "  F =   60939.554687500000     \n",
      "\n",
      "STOP: TOTAL NO. of ITERATIONS REACHED LIMIT                 \n",
      "INFO:tensorflow:Optimization terminated with:\n",
      "  Message: STOP: TOTAL NO. of ITERATIONS REACHED LIMIT\n",
      "  Objective function value: 60939.554688\n",
      "  Number of iterations: 5\n",
      "  Number of functions evaluations: 8\n",
      ".-^-._.-^-._.-^-._.-^-._.-^-._.-^-._.-^-._.-^-._.-^-._.-^-._.-^-._.-^-._\n",
      "PRE-TRAINING\n",
      "Epoch: 3 test rmse: 1.0384674 train rmse: 0.9897235\n",
      "Time: 4.497684955596924 seconds\n",
      "Time cumulative: 13.88719129562378 seconds\n",
      ".-^-._.-^-._.-^-._.-^-._.-^-._.-^-._.-^-._.-^-._.-^-._.-^-._.-^-._.-^-._\n"
     ]
    },
    {
     "name": "stderr",
     "output_type": "stream",
     "text": [
      " This problem is unconstrained.\n"
     ]
    },
    {
     "name": "stdout",
     "output_type": "stream",
     "text": [
      "RUNNING THE L-BFGS-B CODE\n",
      "\n",
      "           * * *\n",
      "\n",
      "Machine precision = 2.220D-16\n",
      " N =      1214373     M =           10\n",
      "\n",
      "At X0         0 variables are exactly at the bounds\n",
      "\n",
      "At iterate    0    f=  6.09396D+04    |proj g|=  1.94728D+02\n",
      "\n",
      "At iterate    1    f=  6.07832D+04    |proj g|=  1.36743D+02\n",
      "\n",
      "At iterate    2    f=  6.06678D+04    |proj g|=  1.06060D+02\n",
      "\n",
      "At iterate    3    f=  6.02400D+04    |proj g|=  2.90263D+02\n",
      "\n",
      "At iterate    4    f=  5.99542D+04    |proj g|=  3.09431D+02\n",
      "\n",
      "At iterate    5    f=  5.97643D+04    |proj g|=  1.77866D+02\n",
      "\n",
      "           * * *\n",
      "\n",
      "Tit   = total number of iterations\n",
      "Tnf   = total number of function evaluations\n",
      "Tnint = total number of segments explored during Cauchy searches\n",
      "Skip  = number of BFGS updates skipped\n",
      "Nact  = number of active bounds at final generalized Cauchy point\n",
      "Projg = norm of the final projected gradient\n",
      "F     = final function value\n",
      "\n",
      "           * * *\n",
      "\n",
      "   N    Tit     Tnf  Tnint  Skip  Nact     Projg        F\n",
      "*****      5      7      1     0     0   1.779D+02   5.976D+04\n",
      "  F =   59764.324218750000     \n",
      "\n",
      "STOP: TOTAL NO. of ITERATIONS REACHED LIMIT                 \n",
      "INFO:tensorflow:Optimization terminated with:\n",
      "  Message: STOP: TOTAL NO. of ITERATIONS REACHED LIMIT\n",
      "  Objective function value: 59764.324219\n",
      "  Number of iterations: 5\n",
      "  Number of functions evaluations: 7\n",
      ".-^-._.-^-._.-^-._.-^-._.-^-._.-^-._.-^-._.-^-._.-^-._.-^-._.-^-._.-^-._\n",
      "PRE-TRAINING\n",
      "Epoch: 4 test rmse: 1.0178863 train rmse: 0.97654974\n",
      "Time: 4.232679128646851 seconds\n",
      "Time cumulative: 18.11987042427063 seconds\n",
      ".-^-._.-^-._.-^-._.-^-._.-^-._.-^-._.-^-._.-^-._.-^-._.-^-._.-^-._.-^-._\n"
     ]
    },
    {
     "name": "stderr",
     "output_type": "stream",
     "text": [
      " This problem is unconstrained.\n"
     ]
    },
    {
     "name": "stdout",
     "output_type": "stream",
     "text": [
      "RUNNING THE L-BFGS-B CODE\n",
      "\n",
      "           * * *\n",
      "\n",
      "Machine precision = 2.220D-16\n",
      " N =      1214373     M =           10\n",
      "\n",
      "At X0         0 variables are exactly at the bounds\n",
      "\n",
      "At iterate    0    f=  5.97643D+04    |proj g|=  1.77866D+02\n",
      "\n",
      "At iterate    1    f=  5.96492D+04    |proj g|=  1.54372D+02\n",
      "\n",
      "At iterate    2    f=  5.95613D+04    |proj g|=  1.20034D+02\n",
      "\n",
      "At iterate    3    f=  5.91516D+04    |proj g|=  2.43994D+02\n",
      "\n",
      "At iterate    4    f=  5.89485D+04    |proj g|=  2.83271D+02\n",
      "\n",
      "At iterate    5    f=  5.87538D+04    |proj g|=  1.65525D+02\n",
      "\n",
      "           * * *\n",
      "\n",
      "Tit   = total number of iterations\n",
      "Tnf   = total number of function evaluations\n",
      "Tnint = total number of segments explored during Cauchy searches\n",
      "Skip  = number of BFGS updates skipped\n",
      "Nact  = number of active bounds at final generalized Cauchy point\n",
      "Projg = norm of the final projected gradient\n",
      "F     = final function value\n",
      "\n",
      "           * * *\n",
      "\n",
      "   N    Tit     Tnf  Tnint  Skip  Nact     Projg        F\n",
      "*****      5      7      1     0     0   1.655D+02   5.875D+04\n",
      "  F =   58753.839843750000     \n",
      "\n",
      "STOP: TOTAL NO. of ITERATIONS REACHED LIMIT                 \n",
      "INFO:tensorflow:Optimization terminated with:\n",
      "  Message: STOP: TOTAL NO. of ITERATIONS REACHED LIMIT\n",
      "  Objective function value: 58753.839844\n",
      "  Number of iterations: 5\n",
      "  Number of functions evaluations: 7\n",
      ".-^-._.-^-._.-^-._.-^-._.-^-._.-^-._.-^-._.-^-._.-^-._.-^-._.-^-._.-^-._\n",
      "PRE-TRAINING\n",
      "Epoch: 5 test rmse: 1.0064889 train rmse: 0.9659385\n",
      "Time: 4.660515785217285 seconds\n",
      "Time cumulative: 22.780386209487915 seconds\n",
      ".-^-._.-^-._.-^-._.-^-._.-^-._.-^-._.-^-._.-^-._.-^-._.-^-._.-^-._.-^-._\n",
      "RUNNING THE L-BFGS-B CODE\n",
      "\n",
      "           * * *\n",
      "\n",
      "Machine precision = 2.220D-16\n",
      " N =      1229511     M =           10\n",
      "\n",
      "At X0         0 variables are exactly at the bounds\n",
      "\n",
      "At iterate    0    f=  6.34422D+04    |proj g|=  1.06007D+03\n"
     ]
    },
    {
     "name": "stderr",
     "output_type": "stream",
     "text": [
      " This problem is unconstrained.\n"
     ]
    },
    {
     "name": "stdout",
     "output_type": "stream",
     "text": [
      "\n",
      "At iterate    1    f=  5.98144D+04    |proj g|=  4.60464D+02\n",
      "\n",
      "At iterate    2    f=  5.97967D+04    |proj g|=  9.81800D+02\n",
      "\n",
      "At iterate    3    f=  5.84915D+04    |proj g|=  2.17069D+02\n",
      "\n",
      "At iterate    4    f=  5.83139D+04    |proj g|=  1.67098D+02\n",
      "\n",
      "At iterate    5    f=  5.81734D+04    |proj g|=  1.87875D+02\n",
      "\n",
      "           * * *\n",
      "\n",
      "Tit   = total number of iterations\n",
      "Tnf   = total number of function evaluations\n",
      "Tnint = total number of segments explored during Cauchy searches\n",
      "Skip  = number of BFGS updates skipped\n",
      "Nact  = number of active bounds at final generalized Cauchy point\n",
      "Projg = norm of the final projected gradient\n",
      "F     = final function value\n",
      "\n",
      "           * * *\n",
      "\n",
      "   N    Tit     Tnf  Tnint  Skip  Nact     Projg        F\n",
      "*****      5      6      1     0     0   1.879D+02   5.817D+04\n",
      "  F =   58173.414062500000     \n",
      "\n",
      "STOP: TOTAL NO. of ITERATIONS REACHED LIMIT                 \n",
      "INFO:tensorflow:Optimization terminated with:\n",
      "  Message: STOP: TOTAL NO. of ITERATIONS REACHED LIMIT\n",
      "  Objective function value: 58173.414062\n",
      "  Number of iterations: 5\n",
      "  Number of functions evaluations: 6\n",
      "k: (943, 1682)\n",
      "k: (943, 1682)\n",
      ".-^-._.-^-._.-^-._.-^-._.-^-._.-^-._.-^-._.-^-._.-^-._.-^-._.-^-._.-^-._\n",
      "FINE-TUNING\n",
      "Epoch: 1 test rmse: 0.9975307 test mae: 0.7930269 test ndcg: 0.8737962511089888\n",
      "Epoch: 1 train rmse: 0.95911205 train mae: 0.7644648 train ndcg: 0.8750245130710955\n",
      "Time: 8.527796030044556 seconds\n",
      "Time cumulative: 31.30818223953247 seconds\n",
      ".-^-._.-^-._.-^-._.-^-._.-^-._.-^-._.-^-._.-^-._.-^-._.-^-._.-^-._.-^-._\n",
      "RUNNING THE L-BFGS-B CODE\n",
      "\n",
      "           * * *\n",
      "\n",
      "Machine precision = 2.220D-16\n",
      " N =      1229511     M =           10\n",
      "\n",
      "At X0         0 variables are exactly at the bounds\n",
      "\n",
      "At iterate    0    f=  5.81734D+04    |proj g|=  1.87875D+02\n"
     ]
    },
    {
     "name": "stderr",
     "output_type": "stream",
     "text": [
      " This problem is unconstrained.\n"
     ]
    },
    {
     "name": "stdout",
     "output_type": "stream",
     "text": [
      "\n",
      "At iterate    1    f=  5.80869D+04    |proj g|=  4.10871D+02\n",
      "\n",
      "At iterate    2    f=  5.77983D+04    |proj g|=  1.71592D+02\n",
      "\n",
      "At iterate    3    f=  5.76487D+04    |proj g|=  2.35877D+02\n",
      "\n",
      "At iterate    4    f=  5.75226D+04    |proj g|=  2.05066D+02\n",
      "\n",
      "At iterate    5    f=  5.72801D+04    |proj g|=  1.64761D+02\n",
      "\n",
      "           * * *\n",
      "\n",
      "Tit   = total number of iterations\n",
      "Tnf   = total number of function evaluations\n",
      "Tnint = total number of segments explored during Cauchy searches\n",
      "Skip  = number of BFGS updates skipped\n",
      "Nact  = number of active bounds at final generalized Cauchy point\n",
      "Projg = norm of the final projected gradient\n",
      "F     = final function value\n",
      "\n",
      "           * * *\n",
      "\n",
      "   N    Tit     Tnf  Tnint  Skip  Nact     Projg        F\n",
      "*****      5      7      1     0     0   1.648D+02   5.728D+04\n",
      "  F =   57280.121093750000     \n",
      "\n",
      "STOP: TOTAL NO. of ITERATIONS REACHED LIMIT                 \n",
      "INFO:tensorflow:Optimization terminated with:\n",
      "  Message: STOP: TOTAL NO. of ITERATIONS REACHED LIMIT\n",
      "  Objective function value: 57280.121094\n",
      "  Number of iterations: 5\n",
      "  Number of functions evaluations: 7\n",
      "k: (943, 1682)\n",
      "k: (943, 1682)\n",
      ".-^-._.-^-._.-^-._.-^-._.-^-._.-^-._.-^-._.-^-._.-^-._.-^-._.-^-._.-^-._\n",
      "FINE-TUNING\n",
      "Epoch: 2 test rmse: 0.98833674 test mae: 0.7837788 test ndcg: 0.8764020361343503\n",
      "Epoch: 2 train rmse: 0.9482217 train mae: 0.7535004 train ndcg: 0.8781704062368192\n",
      "Time: 6.56786322593689 seconds\n",
      "Time cumulative: 37.87604546546936 seconds\n",
      ".-^-._.-^-._.-^-._.-^-._.-^-._.-^-._.-^-._.-^-._.-^-._.-^-._.-^-._.-^-._\n",
      "RUNNING THE L-BFGS-B CODE\n",
      "\n",
      "           * * *\n",
      "\n",
      "Machine precision = 2.220D-16\n",
      " N =      1229511     M =           10\n",
      "\n",
      "At X0         0 variables are exactly at the bounds\n",
      "\n",
      "At iterate    0    f=  5.72801D+04    |proj g|=  1.64761D+02\n"
     ]
    },
    {
     "name": "stderr",
     "output_type": "stream",
     "text": [
      " This problem is unconstrained.\n"
     ]
    },
    {
     "name": "stdout",
     "output_type": "stream",
     "text": [
      "\n",
      "At iterate    1    f=  5.72226D+04    |proj g|=  3.86203D+02\n",
      "\n",
      "At iterate    2    f=  5.69796D+04    |proj g|=  1.48384D+02\n",
      "\n",
      "At iterate    3    f=  5.68586D+04    |proj g|=  1.33529D+02\n",
      "\n",
      "At iterate    4    f=  5.67682D+04    |proj g|=  1.27808D+02\n",
      "\n",
      "At iterate    5    f=  5.65888D+04    |proj g|=  2.37575D+02\n",
      "\n",
      "           * * *\n",
      "\n",
      "Tit   = total number of iterations\n",
      "Tnf   = total number of function evaluations\n",
      "Tnint = total number of segments explored during Cauchy searches\n",
      "Skip  = number of BFGS updates skipped\n",
      "Nact  = number of active bounds at final generalized Cauchy point\n",
      "Projg = norm of the final projected gradient\n",
      "F     = final function value\n",
      "\n",
      "           * * *\n",
      "\n",
      "   N    Tit     Tnf  Tnint  Skip  Nact     Projg        F\n",
      "*****      5      7      1     0     0   2.376D+02   5.659D+04\n",
      "  F =   56588.773437500000     \n",
      "\n",
      "STOP: TOTAL NO. of ITERATIONS REACHED LIMIT                 \n",
      "INFO:tensorflow:Optimization terminated with:\n",
      "  Message: STOP: TOTAL NO. of ITERATIONS REACHED LIMIT\n",
      "  Objective function value: 56588.773438\n",
      "  Number of iterations: 5\n",
      "  Number of functions evaluations: 7\n",
      "k: (943, 1682)\n",
      "k: (943, 1682)\n",
      ".-^-._.-^-._.-^-._.-^-._.-^-._.-^-._.-^-._.-^-._.-^-._.-^-._.-^-._.-^-._\n",
      "FINE-TUNING\n",
      "Epoch: 3 test rmse: 0.9814368 test mae: 0.77755946 test ndcg: 0.8786059639378759\n",
      "Epoch: 3 train rmse: 0.93993145 train mae: 0.74580103 train ndcg: 0.8815666983719719\n",
      "Time: 6.841470003128052 seconds\n",
      "Time cumulative: 44.71751546859741 seconds\n",
      ".-^-._.-^-._.-^-._.-^-._.-^-._.-^-._.-^-._.-^-._.-^-._.-^-._.-^-._.-^-._\n"
     ]
    },
    {
     "name": "stderr",
     "output_type": "stream",
     "text": [
      " This problem is unconstrained.\n"
     ]
    },
    {
     "name": "stdout",
     "output_type": "stream",
     "text": [
      "RUNNING THE L-BFGS-B CODE\n",
      "\n",
      "           * * *\n",
      "\n",
      "Machine precision = 2.220D-16\n",
      " N =      1229511     M =           10\n",
      "\n",
      "At X0         0 variables are exactly at the bounds\n",
      "\n",
      "At iterate    0    f=  5.65888D+04    |proj g|=  2.37575D+02\n",
      "\n",
      "At iterate    1    f=  5.64829D+04    |proj g|=  1.96417D+02\n",
      "\n",
      "At iterate    2    f=  5.64237D+04    |proj g|=  1.19145D+02\n",
      "\n",
      "At iterate    3    f=  5.63544D+04    |proj g|=  2.46954D+02\n",
      "\n",
      "At iterate    4    f=  5.62500D+04    |proj g|=  2.42942D+02\n",
      "\n",
      "At iterate    5    f=  5.61063D+04    |proj g|=  1.88536D+02\n",
      "\n",
      "           * * *\n",
      "\n",
      "Tit   = total number of iterations\n",
      "Tnf   = total number of function evaluations\n",
      "Tnint = total number of segments explored during Cauchy searches\n",
      "Skip  = number of BFGS updates skipped\n",
      "Nact  = number of active bounds at final generalized Cauchy point\n",
      "Projg = norm of the final projected gradient\n",
      "F     = final function value\n",
      "\n",
      "           * * *\n",
      "\n",
      "   N    Tit     Tnf  Tnint  Skip  Nact     Projg        F\n",
      "*****      5      8      1     0     0   1.885D+02   5.611D+04\n",
      "  F =   56106.320312500000     \n",
      "\n",
      "STOP: TOTAL NO. of ITERATIONS REACHED LIMIT                 \n",
      "INFO:tensorflow:Optimization terminated with:\n",
      "  Message: STOP: TOTAL NO. of ITERATIONS REACHED LIMIT\n",
      "  Objective function value: 56106.320312\n",
      "  Number of iterations: 5\n",
      "  Number of functions evaluations: 8\n",
      "k: (943, 1682)\n",
      "k: (943, 1682)\n",
      ".-^-._.-^-._.-^-._.-^-._.-^-._.-^-._.-^-._.-^-._.-^-._.-^-._.-^-._.-^-._\n",
      "FINE-TUNING\n",
      "Epoch: 4 test rmse: 0.97690237 test mae: 0.7733417 test ndcg: 0.879733794911371\n",
      "Epoch: 4 train rmse: 0.93461204 train mae: 0.7412643 train ndcg: 0.8831247209899838\n",
      "Time: 7.201687335968018 seconds\n",
      "Time cumulative: 51.91920280456543 seconds\n",
      ".-^-._.-^-._.-^-._.-^-._.-^-._.-^-._.-^-._.-^-._.-^-._.-^-._.-^-._.-^-._\n"
     ]
    },
    {
     "name": "stderr",
     "output_type": "stream",
     "text": [
      " This problem is unconstrained.\n"
     ]
    },
    {
     "name": "stdout",
     "output_type": "stream",
     "text": [
      "RUNNING THE L-BFGS-B CODE\n",
      "\n",
      "           * * *\n",
      "\n",
      "Machine precision = 2.220D-16\n",
      " N =      1229511     M =           10\n",
      "\n",
      "At X0         0 variables are exactly at the bounds\n",
      "\n",
      "At iterate    0    f=  5.61063D+04    |proj g|=  1.88536D+02\n",
      "\n",
      "At iterate    1    f=  5.60346D+04    |proj g|=  2.81091D+02\n",
      "\n",
      "At iterate    2    f=  5.58950D+04    |proj g|=  1.03172D+02\n",
      "\n",
      "At iterate    3    f=  5.58310D+04    |proj g|=  1.61520D+02\n",
      "\n",
      "At iterate    4    f=  5.57782D+04    |proj g|=  1.64584D+02\n",
      "\n",
      "At iterate    5    f=  5.56749D+04    |proj g|=  1.23950D+02\n",
      "\n",
      "           * * *\n",
      "\n",
      "Tit   = total number of iterations\n",
      "Tnf   = total number of function evaluations\n",
      "Tnint = total number of segments explored during Cauchy searches\n",
      "Skip  = number of BFGS updates skipped\n",
      "Nact  = number of active bounds at final generalized Cauchy point\n",
      "Projg = norm of the final projected gradient\n",
      "F     = final function value\n",
      "\n",
      "           * * *\n",
      "\n",
      "   N    Tit     Tnf  Tnint  Skip  Nact     Projg        F\n",
      "*****      5      7      1     0     0   1.240D+02   5.567D+04\n",
      "  F =   55674.894531250000     \n",
      "\n",
      "STOP: TOTAL NO. of ITERATIONS REACHED LIMIT                 \n",
      "INFO:tensorflow:Optimization terminated with:\n",
      "  Message: STOP: TOTAL NO. of ITERATIONS REACHED LIMIT\n",
      "  Objective function value: 55674.894531\n",
      "  Number of iterations: 5\n",
      "  Number of functions evaluations: 7\n",
      "k: (943, 1682)\n",
      "k: (943, 1682)\n",
      ".-^-._.-^-._.-^-._.-^-._.-^-._.-^-._.-^-._.-^-._.-^-._.-^-._.-^-._.-^-._\n",
      "FINE-TUNING\n",
      "Epoch: 5 test rmse: 0.9734181 test mae: 0.7706905 test ndcg: 0.8808518119232598\n",
      "Epoch: 5 train rmse: 0.92946506 train mae: 0.7369518 train ndcg: 0.8843402094822246\n",
      "Time: 6.460313558578491 seconds\n",
      "Time cumulative: 58.37951636314392 seconds\n",
      ".-^-._.-^-._.-^-._.-^-._.-^-._.-^-._.-^-._.-^-._.-^-._.-^-._.-^-._.-^-._\n"
     ]
    },
    {
     "name": "stderr",
     "output_type": "stream",
     "text": [
      " This problem is unconstrained.\n"
     ]
    },
    {
     "name": "stdout",
     "output_type": "stream",
     "text": [
      "RUNNING THE L-BFGS-B CODE\n",
      "\n",
      "           * * *\n",
      "\n",
      "Machine precision = 2.220D-16\n",
      " N =      1229511     M =           10\n",
      "\n",
      "At X0         0 variables are exactly at the bounds\n",
      "\n",
      "At iterate    0    f=  5.56749D+04    |proj g|=  1.23950D+02\n",
      "\n",
      "At iterate    1    f=  5.56426D+04    |proj g|=  2.26310D+02\n",
      "\n",
      "At iterate    2    f=  5.55451D+04    |proj g|=  9.11898D+01\n",
      "\n",
      "At iterate    3    f=  5.54901D+04    |proj g|=  9.73850D+01\n",
      "\n",
      "At iterate    4    f=  5.54285D+04    |proj g|=  1.18176D+02\n",
      "\n",
      "At iterate    5    f=  5.52587D+04    |proj g|=  2.55376D+02\n",
      "\n",
      "           * * *\n",
      "\n",
      "Tit   = total number of iterations\n",
      "Tnf   = total number of function evaluations\n",
      "Tnint = total number of segments explored during Cauchy searches\n",
      "Skip  = number of BFGS updates skipped\n",
      "Nact  = number of active bounds at final generalized Cauchy point\n",
      "Projg = norm of the final projected gradient\n",
      "F     = final function value\n",
      "\n",
      "           * * *\n",
      "\n",
      "   N    Tit     Tnf  Tnint  Skip  Nact     Projg        F\n",
      "*****      5      7      1     0     0   2.554D+02   5.526D+04\n",
      "  F =   55258.687500000000     \n",
      "\n",
      "STOP: TOTAL NO. of ITERATIONS REACHED LIMIT                 \n",
      "INFO:tensorflow:Optimization terminated with:\n",
      "  Message: STOP: TOTAL NO. of ITERATIONS REACHED LIMIT\n",
      "  Objective function value: 55258.687500\n",
      "  Number of iterations: 5\n",
      "  Number of functions evaluations: 7\n",
      "k: (943, 1682)\n",
      "k: (943, 1682)\n",
      ".-^-._.-^-._.-^-._.-^-._.-^-._.-^-._.-^-._.-^-._.-^-._.-^-._.-^-._.-^-._\n",
      "FINE-TUNING\n",
      "Epoch: 6 test rmse: 0.9702879 test mae: 0.76731384 test ndcg: 0.8805361435727154\n",
      "Epoch: 6 train rmse: 0.9250491 train mae: 0.7325157 train ndcg: 0.8853112750392982\n",
      "Time: 6.944302320480347 seconds\n",
      "Time cumulative: 65.32381868362427 seconds\n",
      ".-^-._.-^-._.-^-._.-^-._.-^-._.-^-._.-^-._.-^-._.-^-._.-^-._.-^-._.-^-._\n"
     ]
    },
    {
     "name": "stderr",
     "output_type": "stream",
     "text": [
      " This problem is unconstrained.\n"
     ]
    },
    {
     "name": "stdout",
     "output_type": "stream",
     "text": [
      "RUNNING THE L-BFGS-B CODE\n",
      "\n",
      "           * * *\n",
      "\n",
      "Machine precision = 2.220D-16\n",
      " N =      1229511     M =           10\n",
      "\n",
      "At X0         0 variables are exactly at the bounds\n",
      "\n",
      "At iterate    0    f=  5.52587D+04    |proj g|=  2.55376D+02\n",
      "\n",
      "At iterate    1    f=  5.51723D+04    |proj g|=  1.10216D+02\n",
      "\n",
      "At iterate    2    f=  5.51371D+04    |proj g|=  1.53303D+02\n",
      "\n",
      "At iterate    3    f=  5.50884D+04    |proj g|=  9.47626D+01\n",
      "\n",
      "At iterate    4    f=  5.49995D+04    |proj g|=  1.36448D+02\n",
      "\n",
      "At iterate    5    f=  5.48542D+04    |proj g|=  1.49168D+02\n",
      "\n",
      "           * * *\n",
      "\n",
      "Tit   = total number of iterations\n",
      "Tnf   = total number of function evaluations\n",
      "Tnint = total number of segments explored during Cauchy searches\n",
      "Skip  = number of BFGS updates skipped\n",
      "Nact  = number of active bounds at final generalized Cauchy point\n",
      "Projg = norm of the final projected gradient\n",
      "F     = final function value\n",
      "\n",
      "           * * *\n",
      "\n",
      "   N    Tit     Tnf  Tnint  Skip  Nact     Projg        F\n",
      "*****      5      8      1     0     0   1.492D+02   5.485D+04\n",
      "  F =   54854.210937500000     \n",
      "\n",
      "STOP: TOTAL NO. of ITERATIONS REACHED LIMIT                 \n",
      "INFO:tensorflow:Optimization terminated with:\n",
      "  Message: STOP: TOTAL NO. of ITERATIONS REACHED LIMIT\n",
      "  Objective function value: 54854.210938\n",
      "  Number of iterations: 5\n",
      "  Number of functions evaluations: 8\n",
      "k: (943, 1682)\n",
      "k: (943, 1682)\n",
      ".-^-._.-^-._.-^-._.-^-._.-^-._.-^-._.-^-._.-^-._.-^-._.-^-._.-^-._.-^-._\n",
      "FINE-TUNING\n",
      "Epoch: 7 test rmse: 0.96668094 test mae: 0.765983 test ndcg: 0.8824005961227458\n",
      "Epoch: 7 train rmse: 0.92088586 train mae: 0.7307103 train ndcg: 0.8858323760239984\n",
      "Time: 7.1691412925720215 seconds\n",
      "Time cumulative: 72.49295997619629 seconds\n",
      ".-^-._.-^-._.-^-._.-^-._.-^-._.-^-._.-^-._.-^-._.-^-._.-^-._.-^-._.-^-._\n"
     ]
    },
    {
     "name": "stderr",
     "output_type": "stream",
     "text": [
      " This problem is unconstrained.\n"
     ]
    },
    {
     "name": "stdout",
     "output_type": "stream",
     "text": [
      "RUNNING THE L-BFGS-B CODE\n",
      "\n",
      "           * * *\n",
      "\n",
      "Machine precision = 2.220D-16\n",
      " N =      1229511     M =           10\n",
      "\n",
      "At X0         0 variables are exactly at the bounds\n",
      "\n",
      "At iterate    0    f=  5.48542D+04    |proj g|=  1.49168D+02\n",
      "\n",
      "At iterate    1    f=  5.47731D+04    |proj g|=  1.07744D+02\n",
      "\n",
      "At iterate    2    f=  5.47216D+04    |proj g|=  1.75787D+02\n",
      "\n",
      "At iterate    3    f=  5.46651D+04    |proj g|=  2.53645D+02\n",
      "\n",
      "At iterate    4    f=  5.46194D+04    |proj g|=  1.37941D+02\n",
      "\n",
      "At iterate    5    f=  5.45692D+04    |proj g|=  1.23221D+02\n",
      "\n",
      "           * * *\n",
      "\n",
      "Tit   = total number of iterations\n",
      "Tnf   = total number of function evaluations\n",
      "Tnint = total number of segments explored during Cauchy searches\n",
      "Skip  = number of BFGS updates skipped\n",
      "Nact  = number of active bounds at final generalized Cauchy point\n",
      "Projg = norm of the final projected gradient\n",
      "F     = final function value\n",
      "\n",
      "           * * *\n",
      "\n",
      "   N    Tit     Tnf  Tnint  Skip  Nact     Projg        F\n",
      "*****      5      8      1     0     0   1.232D+02   5.457D+04\n",
      "  F =   54569.175781250000     \n",
      "\n",
      "STOP: TOTAL NO. of ITERATIONS REACHED LIMIT                 \n",
      "INFO:tensorflow:Optimization terminated with:\n",
      "  Message: STOP: TOTAL NO. of ITERATIONS REACHED LIMIT\n",
      "  Objective function value: 54569.175781\n",
      "  Number of iterations: 5\n",
      "  Number of functions evaluations: 8\n",
      "k: (943, 1682)\n",
      "k: (943, 1682)\n",
      ".-^-._.-^-._.-^-._.-^-._.-^-._.-^-._.-^-._.-^-._.-^-._.-^-._.-^-._.-^-._\n",
      "FINE-TUNING\n",
      "Epoch: 8 test rmse: 0.96573263 test mae: 0.7631799 test ndcg: 0.8821124704259307\n",
      "Epoch: 8 train rmse: 0.917746 train mae: 0.7261313 train ndcg: 0.886698096682532\n",
      "Time: 7.516681671142578 seconds\n",
      "Time cumulative: 80.00964164733887 seconds\n",
      ".-^-._.-^-._.-^-._.-^-._.-^-._.-^-._.-^-._.-^-._.-^-._.-^-._.-^-._.-^-._\n",
      "RUNNING THE L-BFGS-B CODE\n",
      "\n",
      "           * * *\n",
      "\n",
      "Machine precision = 2.220D-16\n",
      " N =      1229511     M =           10\n",
      "\n",
      "At X0         0 variables are exactly at the bounds\n",
      "\n",
      "At iterate    0    f=  5.45692D+04    |proj g|=  1.23221D+02\n"
     ]
    },
    {
     "name": "stderr",
     "output_type": "stream",
     "text": [
      " This problem is unconstrained.\n"
     ]
    },
    {
     "name": "stdout",
     "output_type": "stream",
     "text": [
      "\n",
      "At iterate    1    f=  5.45614D+04    |proj g|=  3.31316D+02\n",
      "\n",
      "At iterate    2    f=  5.44267D+04    |proj g|=  1.16062D+02\n",
      "\n",
      "At iterate    3    f=  5.43908D+04    |proj g|=  2.31118D+02\n",
      "\n",
      "At iterate    4    f=  5.43399D+04    |proj g|=  2.96576D+02\n",
      "\n",
      "At iterate    5    f=  5.42305D+04    |proj g|=  1.83894D+02\n",
      "\n",
      "           * * *\n",
      "\n",
      "Tit   = total number of iterations\n",
      "Tnf   = total number of function evaluations\n",
      "Tnint = total number of segments explored during Cauchy searches\n",
      "Skip  = number of BFGS updates skipped\n",
      "Nact  = number of active bounds at final generalized Cauchy point\n",
      "Projg = norm of the final projected gradient\n",
      "F     = final function value\n",
      "\n",
      "           * * *\n",
      "\n",
      "   N    Tit     Tnf  Tnint  Skip  Nact     Projg        F\n",
      "*****      5      7      1     0     0   1.839D+02   5.423D+04\n",
      "  F =   54230.460937500000     \n",
      "\n",
      "STOP: TOTAL NO. of ITERATIONS REACHED LIMIT                 \n",
      "INFO:tensorflow:Optimization terminated with:\n",
      "  Message: STOP: TOTAL NO. of ITERATIONS REACHED LIMIT\n",
      "  Objective function value: 54230.460938\n",
      "  Number of iterations: 5\n",
      "  Number of functions evaluations: 7\n",
      "k: (943, 1682)\n",
      "k: (943, 1682)\n",
      ".-^-._.-^-._.-^-._.-^-._.-^-._.-^-._.-^-._.-^-._.-^-._.-^-._.-^-._.-^-._\n",
      "FINE-TUNING\n",
      "Epoch: 9 test rmse: 0.96299195 test mae: 0.7605586 test ndcg: 0.8816579566877488\n",
      "Epoch: 9 train rmse: 0.9143481 train mae: 0.7226868 train ndcg: 0.887693204348187\n",
      "Time: 6.831653833389282 seconds\n",
      "Time cumulative: 86.84129548072815 seconds\n",
      ".-^-._.-^-._.-^-._.-^-._.-^-._.-^-._.-^-._.-^-._.-^-._.-^-._.-^-._.-^-._\n",
      "RUNNING THE L-BFGS-B CODE\n",
      "\n",
      "           * * *\n",
      "\n",
      "Machine precision = 2.220D-16\n",
      " N =      1229511     M =           10\n",
      "\n",
      "At X0         0 variables are exactly at the bounds\n",
      "\n",
      "At iterate    0    f=  5.42305D+04    |proj g|=  1.83894D+02\n"
     ]
    },
    {
     "name": "stderr",
     "output_type": "stream",
     "text": [
      " This problem is unconstrained.\n"
     ]
    },
    {
     "name": "stdout",
     "output_type": "stream",
     "text": [
      "\n",
      "At iterate    1    f=  5.41501D+04    |proj g|=  2.38796D+02\n",
      "\n",
      "At iterate    2    f=  5.41140D+04    |proj g|=  8.09803D+01\n",
      "\n",
      "At iterate    3    f=  5.40783D+04    |proj g|=  1.17371D+02\n",
      "\n",
      "At iterate    4    f=  5.40209D+04    |proj g|=  1.11462D+02\n",
      "\n",
      "At iterate    5    f=  5.39355D+04    |proj g|=  1.39642D+02\n",
      "\n",
      "           * * *\n",
      "\n",
      "Tit   = total number of iterations\n",
      "Tnf   = total number of function evaluations\n",
      "Tnint = total number of segments explored during Cauchy searches\n",
      "Skip  = number of BFGS updates skipped\n",
      "Nact  = number of active bounds at final generalized Cauchy point\n",
      "Projg = norm of the final projected gradient\n",
      "F     = final function value\n",
      "\n",
      "           * * *\n",
      "\n",
      "   N    Tit     Tnf  Tnint  Skip  Nact     Projg        F\n",
      "*****      5      8      1     0     0   1.396D+02   5.394D+04\n",
      "  F =   53935.500000000000     \n",
      "\n",
      "STOP: TOTAL NO. of ITERATIONS REACHED LIMIT                 \n",
      "INFO:tensorflow:Optimization terminated with:\n",
      "  Message: STOP: TOTAL NO. of ITERATIONS REACHED LIMIT\n",
      "  Objective function value: 53935.500000\n",
      "  Number of iterations: 5\n",
      "  Number of functions evaluations: 8\n",
      "k: (943, 1682)\n",
      "k: (943, 1682)\n",
      ".-^-._.-^-._.-^-._.-^-._.-^-._.-^-._.-^-._.-^-._.-^-._.-^-._.-^-._.-^-._\n",
      "FINE-TUNING\n",
      "Epoch: 10 test rmse: 0.961324 test mae: 0.76090705 test ndcg: 0.8819803143072467\n",
      "Epoch: 10 train rmse: 0.9113431 train mae: 0.72254384 train ndcg: 0.8882595210885785\n",
      "Time: 7.54220724105835 seconds\n",
      "Time cumulative: 94.3835027217865 seconds\n",
      ".-^-._.-^-._.-^-._.-^-._.-^-._.-^-._.-^-._.-^-._.-^-._.-^-._.-^-._.-^-._\n"
     ]
    }
   ],
   "source": [
    "best_rmse_ep, best_mae_ep, best_ndcg_ep = 0, 0, 0\n",
    "best_rmse, best_mae, best_ndcg = float(\"inf\"), float(\"inf\"), 0\n",
    "\n",
    "time_cumulative = 0\n",
    "init = tf.global_variables_initializer()\n",
    "\n",
    "with tf.Session() as sess:\n",
    "    sess.run(init)\n",
    "    for i in range(epoch_p):\n",
    "        tic = time()\n",
    "        optimizer_p.minimize(sess, feed_dict={R: train_r})\n",
    "        pre = sess.run(pred_p, feed_dict={R: train_r})\n",
    "\n",
    "        t = time() - tic\n",
    "        time_cumulative += t\n",
    "        \n",
    "        error = (test_m * (np.clip(pre, 1., 5.) - test_r) ** 2).sum() / test_m.sum()  # test error\n",
    "        test_rmse = np.sqrt(error)\n",
    "\n",
    "        error_train = (train_m * (np.clip(pre, 1., 5.) - train_r) ** 2).sum() / train_m.sum()  # train error\n",
    "        train_rmse = np.sqrt(error_train)\n",
    "\n",
    "        print('.-^-._' * 12)\n",
    "        print('PRE-TRAINING')\n",
    "        print('Epoch:', i+1, 'test rmse:', test_rmse, 'train rmse:', train_rmse)\n",
    "        print('Time:', t, 'seconds')\n",
    "        print('Time cumulative:', time_cumulative, 'seconds')\n",
    "        print('.-^-._' * 12)\n",
    "\n",
    "    for i in range(epoch_f):\n",
    "        tic = time()\n",
    "        optimizer_f.minimize(sess, feed_dict={R: train_r})\n",
    "        pre = sess.run(pred_f, feed_dict={R: train_r})\n",
    "\n",
    "        t = time() - tic\n",
    "        time_cumulative += t\n",
    "        \n",
    "        error = (test_m * (np.clip(pre, 1., 5.) - test_r) ** 2).sum() / test_m.sum()  # test error\n",
    "        test_rmse = np.sqrt(error)\n",
    "\n",
    "        error_train = (train_m * (np.clip(pre, 1., 5.) - train_r) ** 2).sum() / train_m.sum()  # train error\n",
    "        train_rmse = np.sqrt(error_train)\n",
    "\n",
    "        test_mae = (test_m * np.abs(np.clip(pre, 1., 5.) - test_r)).sum() / test_m.sum()\n",
    "        train_mae = (train_m * np.abs(np.clip(pre, 1., 5.) - train_r)).sum() / train_m.sum()\n",
    "\n",
    "        test_ndcg = call_ndcg(np.clip(pre, 1., 5.), test_r)\n",
    "        train_ndcg = call_ndcg(np.clip(pre, 1., 5.), train_r)\n",
    "\n",
    "        if test_rmse < best_rmse:\n",
    "            best_rmse = test_rmse\n",
    "            best_rmse_ep = i+1\n",
    "\n",
    "        if test_mae < best_mae:\n",
    "            best_mae = test_mae\n",
    "            best_mae_ep = i+1\n",
    "\n",
    "        if best_ndcg < test_ndcg:\n",
    "            best_ndcg = test_ndcg\n",
    "            best_ndcg_ep = i+1\n",
    "\n",
    "        print('.-^-._' * 12)\n",
    "        print('FINE-TUNING')\n",
    "        print('Epoch:', i+1, 'test rmse:', test_rmse, 'test mae:', test_mae, 'test ndcg:', test_ndcg)\n",
    "        print('Epoch:', i+1, 'train rmse:', train_rmse, 'train mae:', train_mae, 'train ndcg:', train_ndcg)\n",
    "        print('Time:', t, 'seconds')\n",
    "        print('Time cumulative:', time_cumulative, 'seconds')\n",
    "        print('.-^-._' * 12)"
   ]
  },
  {
   "cell_type": "code",
   "execution_count": 36,
   "metadata": {
    "id": "CTi_PdXJqTjh"
   },
   "outputs": [
    {
     "name": "stdout",
     "output_type": "stream",
     "text": [
      "Epoch: 10  best rmse: 0.9561932\n",
      "Epoch: 10  best mae: 0.75605315\n",
      "Epoch: 10  best ndcg: 0.8854317308065986\n"
     ]
    }
   ],
   "source": [
    "# Final result\n",
    "print('Epoch:', best_rmse_ep, ' best rmse:', best_rmse)\n",
    "print('Epoch:', best_mae_ep, ' best mae:', best_mae)\n",
    "print('Epoch:', best_ndcg_ep, ' best ndcg:', best_ndcg)"
   ]
  },
  {
   "cell_type": "code",
   "execution_count": 27,
   "metadata": {},
   "outputs": [
    {
     "ename": "TypeError",
     "evalue": "Types don't match, <dtype: 'int64'> vs <dtype: 'float32'>.",
     "output_type": "error",
     "traceback": [
      "\u001b[0;31m---------------------------------------------------------------------------\u001b[0m",
      "\u001b[0;31mTypeError\u001b[0m                                 Traceback (most recent call last)",
      "\u001b[0;32m/tmp/ipykernel_11730/1315063889.py\u001b[0m in \u001b[0;36m<module>\u001b[0;34m\u001b[0m\n\u001b[0;32m----> 1\u001b[0;31m \u001b[0mtf\u001b[0m\u001b[0;34m.\u001b[0m\u001b[0mmetrics\u001b[0m\u001b[0;34m.\u001b[0m\u001b[0mrecall_at_top_k\u001b[0m\u001b[0;34m(\u001b[0m\u001b[0mtf\u001b[0m\u001b[0;34m.\u001b[0m\u001b[0mconvert_to_tensor\u001b[0m\u001b[0;34m(\u001b[0m\u001b[0mtrain_r\u001b[0m\u001b[0;34m)\u001b[0m\u001b[0;34m,\u001b[0m \u001b[0mtf\u001b[0m\u001b[0;34m.\u001b[0m\u001b[0mconvert_to_tensor\u001b[0m\u001b[0;34m(\u001b[0m\u001b[0mtest_r\u001b[0m\u001b[0;34m)\u001b[0m\u001b[0;34m,\u001b[0m \u001b[0;36m10\u001b[0m\u001b[0;34m)\u001b[0m\u001b[0;34m\u001b[0m\u001b[0;34m\u001b[0m\u001b[0m\n\u001b[0m",
      "\u001b[0;32m~/anaconda3/envs/GLocal-K/lib/python3.7/site-packages/tensorflow_core/python/ops/metrics_impl.py\u001b[0m in \u001b[0;36mrecall_at_top_k\u001b[0;34m(labels, predictions_idx, k, class_id, weights, metrics_collections, updates_collections, name)\u001b[0m\n\u001b[1;32m   2628\u001b[0m         \u001b[0mk\u001b[0m\u001b[0;34m=\u001b[0m\u001b[0mk\u001b[0m\u001b[0;34m,\u001b[0m\u001b[0;34m\u001b[0m\u001b[0;34m\u001b[0m\u001b[0m\n\u001b[1;32m   2629\u001b[0m         \u001b[0mclass_id\u001b[0m\u001b[0;34m=\u001b[0m\u001b[0mclass_id\u001b[0m\u001b[0;34m,\u001b[0m\u001b[0;34m\u001b[0m\u001b[0;34m\u001b[0m\u001b[0m\n\u001b[0;32m-> 2630\u001b[0;31m         weights=weights)\n\u001b[0m\u001b[1;32m   2631\u001b[0m     fn, fn_update = _streaming_sparse_false_negative_at_k(\n\u001b[1;32m   2632\u001b[0m         \u001b[0mpredictions_idx\u001b[0m\u001b[0;34m=\u001b[0m\u001b[0mtop_k_idx\u001b[0m\u001b[0;34m,\u001b[0m\u001b[0;34m\u001b[0m\u001b[0;34m\u001b[0m\u001b[0m\n",
      "\u001b[0;32m~/anaconda3/envs/GLocal-K/lib/python3.7/site-packages/tensorflow_core/python/ops/metrics_impl.py\u001b[0m in \u001b[0;36m_streaming_sparse_true_positive_at_k\u001b[0;34m(labels, predictions_idx, k, class_id, weights, name)\u001b[0m\n\u001b[1;32m   2370\u001b[0m         \u001b[0mlabels\u001b[0m\u001b[0;34m=\u001b[0m\u001b[0mlabels\u001b[0m\u001b[0;34m,\u001b[0m\u001b[0;34m\u001b[0m\u001b[0;34m\u001b[0m\u001b[0m\n\u001b[1;32m   2371\u001b[0m         \u001b[0mclass_id\u001b[0m\u001b[0;34m=\u001b[0m\u001b[0mclass_id\u001b[0m\u001b[0;34m,\u001b[0m\u001b[0;34m\u001b[0m\u001b[0;34m\u001b[0m\u001b[0m\n\u001b[0;32m-> 2372\u001b[0;31m         weights=weights)\n\u001b[0m\u001b[1;32m   2373\u001b[0m     \u001b[0mbatch_total_tp\u001b[0m \u001b[0;34m=\u001b[0m \u001b[0mmath_ops\u001b[0m\u001b[0;34m.\u001b[0m\u001b[0mcast\u001b[0m\u001b[0;34m(\u001b[0m\u001b[0mmath_ops\u001b[0m\u001b[0;34m.\u001b[0m\u001b[0mreduce_sum\u001b[0m\u001b[0;34m(\u001b[0m\u001b[0mtp\u001b[0m\u001b[0;34m)\u001b[0m\u001b[0;34m,\u001b[0m \u001b[0mdtypes\u001b[0m\u001b[0;34m.\u001b[0m\u001b[0mfloat64\u001b[0m\u001b[0;34m)\u001b[0m\u001b[0;34m\u001b[0m\u001b[0;34m\u001b[0m\u001b[0m\n\u001b[1;32m   2374\u001b[0m \u001b[0;34m\u001b[0m\u001b[0m\n",
      "\u001b[0;32m~/anaconda3/envs/GLocal-K/lib/python3.7/site-packages/tensorflow_core/python/ops/metrics_impl.py\u001b[0m in \u001b[0;36m_sparse_true_positive_at_k\u001b[0;34m(labels, predictions_idx, class_id, weights, name)\u001b[0m\n\u001b[1;32m   2316\u001b[0m     labels, predictions_idx = _maybe_select_class_id(labels, predictions_idx,\n\u001b[1;32m   2317\u001b[0m                                                      class_id)\n\u001b[0;32m-> 2318\u001b[0;31m     \u001b[0mtp\u001b[0m \u001b[0;34m=\u001b[0m \u001b[0msets\u001b[0m\u001b[0;34m.\u001b[0m\u001b[0mset_size\u001b[0m\u001b[0;34m(\u001b[0m\u001b[0msets\u001b[0m\u001b[0;34m.\u001b[0m\u001b[0mset_intersection\u001b[0m\u001b[0;34m(\u001b[0m\u001b[0mpredictions_idx\u001b[0m\u001b[0;34m,\u001b[0m \u001b[0mlabels\u001b[0m\u001b[0;34m)\u001b[0m\u001b[0;34m)\u001b[0m\u001b[0;34m\u001b[0m\u001b[0;34m\u001b[0m\u001b[0m\n\u001b[0m\u001b[1;32m   2319\u001b[0m     \u001b[0mtp\u001b[0m \u001b[0;34m=\u001b[0m \u001b[0mmath_ops\u001b[0m\u001b[0;34m.\u001b[0m\u001b[0mcast\u001b[0m\u001b[0;34m(\u001b[0m\u001b[0mtp\u001b[0m\u001b[0;34m,\u001b[0m \u001b[0mdtypes\u001b[0m\u001b[0;34m.\u001b[0m\u001b[0mfloat64\u001b[0m\u001b[0;34m)\u001b[0m\u001b[0;34m\u001b[0m\u001b[0;34m\u001b[0m\u001b[0m\n\u001b[1;32m   2320\u001b[0m     \u001b[0;32mif\u001b[0m \u001b[0mweights\u001b[0m \u001b[0;32mis\u001b[0m \u001b[0;32mnot\u001b[0m \u001b[0;32mNone\u001b[0m\u001b[0;34m:\u001b[0m\u001b[0;34m\u001b[0m\u001b[0;34m\u001b[0m\u001b[0m\n",
      "\u001b[0;32m~/anaconda3/envs/GLocal-K/lib/python3.7/site-packages/tensorflow_core/python/ops/sets_impl.py\u001b[0m in \u001b[0;36mset_intersection\u001b[0;34m(a, b, validate_indices)\u001b[0m\n\u001b[1;32m    198\u001b[0m     \u001b[0mintersections\u001b[0m\u001b[0;34m.\u001b[0m\u001b[0;34m\u001b[0m\u001b[0;34m\u001b[0m\u001b[0m\n\u001b[1;32m    199\u001b[0m   \"\"\"\n\u001b[0;32m--> 200\u001b[0;31m   \u001b[0ma\u001b[0m\u001b[0;34m,\u001b[0m \u001b[0mb\u001b[0m\u001b[0;34m,\u001b[0m \u001b[0m_\u001b[0m \u001b[0;34m=\u001b[0m \u001b[0m_convert_to_tensors_or_sparse_tensors\u001b[0m\u001b[0;34m(\u001b[0m\u001b[0ma\u001b[0m\u001b[0;34m,\u001b[0m \u001b[0mb\u001b[0m\u001b[0;34m)\u001b[0m\u001b[0;34m\u001b[0m\u001b[0;34m\u001b[0m\u001b[0m\n\u001b[0m\u001b[1;32m    201\u001b[0m   \u001b[0;32mreturn\u001b[0m \u001b[0m_set_operation\u001b[0m\u001b[0;34m(\u001b[0m\u001b[0ma\u001b[0m\u001b[0;34m,\u001b[0m \u001b[0mb\u001b[0m\u001b[0;34m,\u001b[0m \u001b[0;34m\"intersection\"\u001b[0m\u001b[0;34m,\u001b[0m \u001b[0mvalidate_indices\u001b[0m\u001b[0;34m)\u001b[0m\u001b[0;34m\u001b[0m\u001b[0;34m\u001b[0m\u001b[0m\n\u001b[1;32m    202\u001b[0m \u001b[0;34m\u001b[0m\u001b[0m\n",
      "\u001b[0;32m~/anaconda3/envs/GLocal-K/lib/python3.7/site-packages/tensorflow_core/python/ops/sets_impl.py\u001b[0m in \u001b[0;36m_convert_to_tensors_or_sparse_tensors\u001b[0;34m(a, b)\u001b[0m\n\u001b[1;32m     84\u001b[0m   \u001b[0mb\u001b[0m \u001b[0;34m=\u001b[0m \u001b[0msparse_tensor\u001b[0m\u001b[0;34m.\u001b[0m\u001b[0mconvert_to_tensor_or_sparse_tensor\u001b[0m\u001b[0;34m(\u001b[0m\u001b[0mb\u001b[0m\u001b[0;34m,\u001b[0m \u001b[0mname\u001b[0m\u001b[0;34m=\u001b[0m\u001b[0;34m\"b\"\u001b[0m\u001b[0;34m)\u001b[0m\u001b[0;34m\u001b[0m\u001b[0;34m\u001b[0m\u001b[0m\n\u001b[1;32m     85\u001b[0m   \u001b[0;32mif\u001b[0m \u001b[0mb\u001b[0m\u001b[0;34m.\u001b[0m\u001b[0mdtype\u001b[0m\u001b[0;34m.\u001b[0m\u001b[0mbase_dtype\u001b[0m \u001b[0;34m!=\u001b[0m \u001b[0ma\u001b[0m\u001b[0;34m.\u001b[0m\u001b[0mdtype\u001b[0m\u001b[0;34m.\u001b[0m\u001b[0mbase_dtype\u001b[0m\u001b[0;34m:\u001b[0m\u001b[0;34m\u001b[0m\u001b[0;34m\u001b[0m\u001b[0m\n\u001b[0;32m---> 86\u001b[0;31m     \u001b[0;32mraise\u001b[0m \u001b[0mTypeError\u001b[0m\u001b[0;34m(\u001b[0m\u001b[0;34m\"Types don't match, %s vs %s.\"\u001b[0m \u001b[0;34m%\u001b[0m \u001b[0;34m(\u001b[0m\u001b[0ma\u001b[0m\u001b[0;34m.\u001b[0m\u001b[0mdtype\u001b[0m\u001b[0;34m,\u001b[0m \u001b[0mb\u001b[0m\u001b[0;34m.\u001b[0m\u001b[0mdtype\u001b[0m\u001b[0;34m)\u001b[0m\u001b[0;34m)\u001b[0m\u001b[0;34m\u001b[0m\u001b[0;34m\u001b[0m\u001b[0m\n\u001b[0m\u001b[1;32m     87\u001b[0m   if (isinstance(a, sparse_tensor.SparseTensor) and\n\u001b[1;32m     88\u001b[0m       not isinstance(b, sparse_tensor.SparseTensor)):\n",
      "\u001b[0;31mTypeError\u001b[0m: Types don't match, <dtype: 'int64'> vs <dtype: 'float32'>."
     ]
    }
   ],
   "source": [
    "tf.metrics.recall_at_top_k(tf.convert_to_tensor(train_r), tf.convert_to_tensor(test_r), 10)"
   ]
  }
 ],
 "metadata": {
  "accelerator": "GPU",
  "colab": {
   "collapsed_sections": [],
   "name": "GLocal_K.ipynb",
   "provenance": []
  },
  "kernelspec": {
   "display_name": "Python 3 (ipykernel)",
   "language": "python",
   "name": "python3"
  },
  "language_info": {
   "codemirror_mode": {
    "name": "ipython",
    "version": 3
   },
   "file_extension": ".py",
   "mimetype": "text/x-python",
   "name": "python",
   "nbconvert_exporter": "python",
   "pygments_lexer": "ipython3",
   "version": "3.7.15"
  }
 },
 "nbformat": 4,
 "nbformat_minor": 1
}
