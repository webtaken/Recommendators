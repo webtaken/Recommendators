{
 "cells": [
  {
   "cell_type": "markdown",
   "id": "important-assembly",
   "metadata": {
    "papermill": {
     "duration": 0.039116,
     "end_time": "2021-06-27T21:43:31.048784",
     "exception": false,
     "start_time": "2021-06-27T21:43:31.009668",
     "status": "completed"
    },
    "tags": []
   },
   "source": [
    "## Implementation of Light GCN Model for Recommendation System from scratch using Pytorch.\n"
   ]
  },
  {
   "cell_type": "markdown",
   "id": "criminal-saudi",
   "metadata": {
    "papermill": {
     "duration": 0.037479,
     "end_time": "2021-06-27T21:43:31.123790",
     "exception": false,
     "start_time": "2021-06-27T21:43:31.086311",
     "status": "completed"
    },
    "tags": []
   },
   "source": [
    "* Light GCN was originally Developed By Microsoft and was released in Jul'2020. It is the SOTA Algorithm for Recommendation System as of now.\n",
    "* Link to the original paper -> https://paperswithcode.com/paper/lightgcn-simplifying-and-powering-graph/review/\n",
    "* There is also a Github Link to Light GCN implementation using Tensorflow -> https://github.com/microsoft/recommenders/tree/efaa3d7742183dee0846877e2dc64977098e1977\n",
    "* I have taken help from the above Repository and tried to recreate LightGCN in pytorch.\n",
    "* In the 2nd part of the notebook, I have also compared my result with the direct result from Original Tensorflow code. "
   ]
  },
  {
   "cell_type": "markdown",
   "id": "legendary-mileage",
   "metadata": {
    "papermill": {
     "duration": 0.036869,
     "end_time": "2021-06-27T21:43:31.197904",
     "exception": false,
     "start_time": "2021-06-27T21:43:31.161035",
     "status": "completed"
    },
    "tags": []
   },
   "source": [
    "### Please do upvote the notebook if you liked the content. It will motivate me. Thanks !!"
   ]
  },
  {
   "cell_type": "code",
   "execution_count": 2,
   "id": "active-remedy",
   "metadata": {
    "execution": {
     "iopub.execute_input": "2021-06-27T21:44:55.728771Z",
     "iopub.status.busy": "2021-06-27T21:44:55.727810Z",
     "iopub.status.idle": "2021-06-27T21:44:56.218172Z",
     "shell.execute_reply": "2021-06-27T21:44:56.217647Z"
    },
    "papermill": {
     "duration": 0.53264,
     "end_time": "2021-06-27T21:44:56.218314",
     "exception": false,
     "start_time": "2021-06-27T21:44:55.685674",
     "status": "completed"
    },
    "tags": []
   },
   "outputs": [
    {
     "data": {
      "text/plain": [
       "False"
      ]
     },
     "execution_count": 2,
     "metadata": {},
     "output_type": "execute_result"
    }
   ],
   "source": [
    "import torch\n",
    "torch.__version__\n",
    "torch.cuda.is_available()"
   ]
  },
  {
   "cell_type": "code",
   "execution_count": null,
   "id": "clean-naples",
   "metadata": {
    "execution": {
     "iopub.execute_input": "2021-06-27T21:44:56.301297Z",
     "iopub.status.busy": "2021-06-27T21:44:56.300640Z",
     "iopub.status.idle": "2021-06-27T21:44:57.298711Z",
     "shell.execute_reply": "2021-06-27T21:44:57.298190Z",
     "shell.execute_reply.started": "2021-06-27T20:31:14.585826Z"
    },
    "papermill": {
     "duration": 1.04238,
     "end_time": "2021-06-27T21:44:57.298879",
     "exception": false,
     "start_time": "2021-06-27T21:44:56.256499",
     "status": "completed"
    },
    "tags": []
   },
   "outputs": [],
   "source": [
    "import pandas as pd\n",
    "pd.set_option('display.max_colwidth', None)\n",
    "from sklearn import preprocessing as pp\n",
    "from sklearn.model_selection import train_test_split\n",
    "import scipy.sparse as sp\n",
    "import numpy as np\n",
    "import random\n",
    "import torch.nn as nn\n",
    "from torch.utils.data import Dataset, DataLoader\n",
    "import time \n",
    "import matplotlib.pyplot as plt\n",
    "from tqdm.notebook import tqdm"
   ]
  },
  {
   "cell_type": "markdown",
   "id": "e2455638",
   "metadata": {},
   "source": [
    "# Funciones para la carga de datos"
   ]
  },
  {
   "cell_type": "code",
   "execution_count": null,
   "id": "extreme-pregnancy",
   "metadata": {
    "execution": {
     "iopub.execute_input": "2021-06-27T21:44:57.382947Z",
     "iopub.status.busy": "2021-06-27T21:44:57.382279Z",
     "iopub.status.idle": "2021-06-27T21:44:57.485045Z",
     "shell.execute_reply": "2021-06-27T21:44:57.484560Z",
     "shell.execute_reply.started": "2021-06-27T20:32:14.788492Z"
    },
    "papermill": {
     "duration": 0.147145,
     "end_time": "2021-06-27T21:44:57.485199",
     "exception": false,
     "start_time": "2021-06-27T21:44:57.338054",
     "status": "completed"
    },
    "tags": []
   },
   "outputs": [],
   "source": [
    "def load_data_1m(path='./', delimiter='::', frac=0.1, seed=1234):\n",
    "    # Loading the dataset for Movielens1M\n",
    "    tic = time.time()\n",
    "    print('reading data...')\n",
    "    data = np.loadtxt(path+'movielens_1m_dataset.dat', skiprows=0, delimiter=delimiter).astype('int32')\n",
    "    print('taken', time.time() - tic, 'seconds')\n",
    "    df = pd.DataFrame(data, columns = ['user_id','item_id','rating', 'timestamp'])\n",
    "    \n",
    "    df = df[df['rating']>=3] # retornando los ratings mayores a 3\n",
    "    \n",
    "    # The size of Test dataset is 20%\n",
    "    train, test = train_test_split(df.values, test_size=0.2, random_state = 16)\n",
    "    df_train = pd.DataFrame(train, columns = df.columns)\n",
    "    df_test = pd.DataFrame(test, columns = df.columns)\n",
    "    \n",
    "    print(\"Rating Distribution Train: \")\n",
    "    print(df_train.groupby(['rating'])['rating'].count())\n",
    "    print(\"Rating Distribution Test: \")\n",
    "    print(df_test.groupby(['rating'])['rating'].count())\n",
    "\n",
    "    print(\"\\nTrain Size  : \", len(df_train))\n",
    "    print(\"Test Size : \", len (df_test))\n",
    "    \n",
    "    return df_train, df_test"
   ]
  },
  {
   "cell_type": "markdown",
   "id": "8d7905c6",
   "metadata": {},
   "source": [
    "# Cargando los datos"
   ]
  },
  {
   "cell_type": "code",
   "execution_count": null,
   "id": "departmental-control",
   "metadata": {
    "execution": {
     "iopub.execute_input": "2021-06-27T21:44:57.569524Z",
     "iopub.status.busy": "2021-06-27T21:44:57.568879Z",
     "iopub.status.idle": "2021-06-27T21:44:57.594405Z",
     "shell.execute_reply": "2021-06-27T21:44:57.593859Z",
     "shell.execute_reply.started": "2021-06-27T20:32:17.784707Z"
    },
    "papermill": {
     "duration": 0.070526,
     "end_time": "2021-06-27T21:44:57.594554",
     "exception": false,
     "start_time": "2021-06-27T21:44:57.524028",
     "status": "completed"
    },
    "tags": []
   },
   "outputs": [],
   "source": [
    "# Inserta el path del directorio de datos por ti mismo (p.ej., '/content/.../data')\n",
    "# .-^-._.-^-._.-^-._.-^-._.-^-._.-^-._.-^-._.-^-._.-^-._.-^-._\n",
    "data_path = 'data'\n",
    "# .-^-._.-^-._.-^-._.-^-._.-^-._.-^-._.-^-._.-^-._.-^-._.-^-._"
   ]
  },
  {
   "cell_type": "code",
   "execution_count": null,
   "id": "average-processor",
   "metadata": {
    "execution": {
     "iopub.execute_input": "2021-06-27T21:44:57.680000Z",
     "iopub.status.busy": "2021-06-27T21:44:57.679383Z",
     "iopub.status.idle": "2021-06-27T21:44:57.686791Z",
     "shell.execute_reply": "2021-06-27T21:44:57.687388Z",
     "shell.execute_reply.started": "2021-06-27T20:32:19.424628Z"
    },
    "papermill": {
     "duration": 0.053551,
     "end_time": "2021-06-27T21:44:57.687555",
     "exception": false,
     "start_time": "2021-06-27T21:44:57.634004",
     "status": "completed"
    },
    "tags": []
   },
   "outputs": [],
   "source": [
    "# Seleccionaremos solo el dataset de 'ML-1M'\n",
    "# .-^-._.-^-._.-^-._.-^-._.-^-._.-^-._.-^-._.-^-._.-^-._.-^-._\n",
    "dataset = 'ML-1M'\n",
    "# .-^-._.-^-._.-^-._.-^-._.-^-._.-^-._.-^-._.-^-._.-^-._.-^-._"
   ]
  },
  {
   "cell_type": "code",
   "execution_count": null,
   "id": "24553b71",
   "metadata": {},
   "outputs": [],
   "source": [
    "# Data Load\n",
    "try:\n",
    "    if dataset == 'ML-1M':\n",
    "        path = data_path + '/MovieLens_1M/'\n",
    "        train, test = load_data_1m(path=path, delimiter='::', frac=0.1, seed=1234)\n",
    "    else:\n",
    "        raise ValueError\n",
    "\n",
    "except ValueError:\n",
    "    print('Error: Unable to load data')"
   ]
  },
  {
   "cell_type": "markdown",
   "id": "sporting-threshold",
   "metadata": {
    "papermill": {
     "duration": 0.040794,
     "end_time": "2021-06-27T21:44:57.955452",
     "exception": false,
     "start_time": "2021-06-27T21:44:57.914658",
     "status": "completed"
    },
    "tags": []
   },
   "source": [
    "#### Label Encoding the User and Item IDs"
   ]
  },
  {
   "cell_type": "code",
   "execution_count": null,
   "id": "human-rogers",
   "metadata": {
    "execution": {
     "iopub.execute_input": "2021-06-27T21:44:58.040180Z",
     "iopub.status.busy": "2021-06-27T21:44:58.039528Z",
     "iopub.status.idle": "2021-06-27T21:44:58.060933Z",
     "shell.execute_reply": "2021-06-27T21:44:58.061491Z",
     "shell.execute_reply.started": "2021-06-27T20:32:25.164967Z"
    },
    "papermill": {
     "duration": 0.065115,
     "end_time": "2021-06-27T21:44:58.061662",
     "exception": false,
     "start_time": "2021-06-27T21:44:57.996547",
     "status": "completed"
    },
    "tags": []
   },
   "outputs": [],
   "source": [
    "le_user = pp.LabelEncoder()\n",
    "le_item = pp.LabelEncoder()\n",
    "train['user_id_idx'] = le_user.fit_transform(train['user_id'].values)\n",
    "train['item_id_idx'] = le_item.fit_transform(train['item_id'].values)"
   ]
  },
  {
   "cell_type": "code",
   "execution_count": null,
   "id": "encouraging-numbers",
   "metadata": {
    "execution": {
     "iopub.execute_input": "2021-06-27T21:44:58.146933Z",
     "iopub.status.busy": "2021-06-27T21:44:58.146251Z",
     "iopub.status.idle": "2021-06-27T21:44:58.157235Z",
     "shell.execute_reply": "2021-06-27T21:44:58.156563Z",
     "shell.execute_reply.started": "2021-06-27T20:32:27.107278Z"
    },
    "papermill": {
     "duration": 0.05425,
     "end_time": "2021-06-27T21:44:58.157373",
     "exception": false,
     "start_time": "2021-06-27T21:44:58.103123",
     "status": "completed"
    },
    "tags": []
   },
   "outputs": [],
   "source": [
    "train_user_ids = train['user_id'].unique()\n",
    "train_item_ids = train['item_id'].unique()\n",
    "\n",
    "print(len(train_user_ids), len(train_item_ids))\n",
    "\n",
    "test = test[(test['user_id'].isin(train_user_ids)) & (test['item_id'].isin(train_item_ids))]\n",
    "print(len(test))"
   ]
  },
  {
   "cell_type": "code",
   "execution_count": null,
   "id": "treated-disney",
   "metadata": {
    "execution": {
     "iopub.execute_input": "2021-06-27T21:44:58.245198Z",
     "iopub.status.busy": "2021-06-27T21:44:58.244499Z",
     "iopub.status.idle": "2021-06-27T21:44:58.256041Z",
     "shell.execute_reply": "2021-06-27T21:44:58.254908Z",
     "shell.execute_reply.started": "2021-06-27T20:32:32.150798Z"
    },
    "papermill": {
     "duration": 0.057999,
     "end_time": "2021-06-27T21:44:58.256214",
     "exception": false,
     "start_time": "2021-06-27T21:44:58.198215",
     "status": "completed"
    },
    "tags": []
   },
   "outputs": [],
   "source": [
    "test['user_id_idx'] = le_user.transform(test['user_id'].values)\n",
    "test['item_id_idx'] = le_item.transform(test['item_id'].values)"
   ]
  },
  {
   "cell_type": "code",
   "execution_count": null,
   "id": "sustained-stack",
   "metadata": {
    "execution": {
     "iopub.execute_input": "2021-06-27T21:44:58.343304Z",
     "iopub.status.busy": "2021-06-27T21:44:58.342277Z",
     "iopub.status.idle": "2021-06-27T21:44:58.349635Z",
     "shell.execute_reply": "2021-06-27T21:44:58.349121Z",
     "shell.execute_reply.started": "2021-06-27T20:32:34.7111Z"
    },
    "papermill": {
     "duration": 0.052835,
     "end_time": "2021-06-27T21:44:58.349765",
     "exception": false,
     "start_time": "2021-06-27T21:44:58.296930",
     "status": "completed"
    },
    "tags": []
   },
   "outputs": [],
   "source": [
    "n_users = train['user_id_idx'].nunique()\n",
    "n_items = train['item_id_idx'].nunique()\n",
    "print(\"Number of Unique Users : \", n_users)\n",
    "print(\"Number of unique Items : \", n_items)"
   ]
  },
  {
   "cell_type": "markdown",
   "id": "twenty-projection",
   "metadata": {
    "papermill": {
     "duration": 0.040196,
     "end_time": "2021-06-27T21:44:58.430715",
     "exception": false,
     "start_time": "2021-06-27T21:44:58.390519",
     "status": "completed"
    },
    "tags": []
   },
   "source": [
    "### latent_dim is the length of the user/item embedding. \n",
    "### n_layers is the number of times we want to propagate our initial user/item embedding through the graph "
   ]
  },
  {
   "cell_type": "code",
   "execution_count": null,
   "id": "weekly-while",
   "metadata": {
    "execution": {
     "iopub.execute_input": "2021-06-27T21:44:58.517079Z",
     "iopub.status.busy": "2021-06-27T21:44:58.516179Z",
     "iopub.status.idle": "2021-06-27T21:44:58.519873Z",
     "shell.execute_reply": "2021-06-27T21:44:58.520375Z",
     "shell.execute_reply.started": "2021-06-27T20:32:37.0862Z"
    },
    "papermill": {
     "duration": 0.049184,
     "end_time": "2021-06-27T21:44:58.520537",
     "exception": false,
     "start_time": "2021-06-27T21:44:58.471353",
     "status": "completed"
    },
    "tags": []
   },
   "outputs": [],
   "source": [
    "latent_dim = 64\n",
    "n_layers = 3  "
   ]
  },
  {
   "cell_type": "code",
   "execution_count": null,
   "id": "eastern-hepatitis",
   "metadata": {
    "execution": {
     "iopub.execute_input": "2021-06-27T21:44:58.608145Z",
     "iopub.status.busy": "2021-06-27T21:44:58.607489Z",
     "iopub.status.idle": "2021-06-27T21:44:58.610616Z",
     "shell.execute_reply": "2021-06-27T21:44:58.610042Z",
     "shell.execute_reply.started": "2021-06-27T20:32:38.209632Z"
    },
    "papermill": {
     "duration": 0.049559,
     "end_time": "2021-06-27T21:44:58.610768",
     "exception": false,
     "start_time": "2021-06-27T21:44:58.561209",
     "status": "completed"
    },
    "tags": []
   },
   "outputs": [],
   "source": [
    "def convert_to_sparse_tensor(dok_mtrx):\n",
    "    \n",
    "    dok_mtrx_coo = dok_mtrx.tocoo().astype(np.float32)\n",
    "    values = dok_mtrx_coo.data\n",
    "    indices = np.vstack((dok_mtrx_coo.row, dok_mtrx_coo.col))\n",
    "\n",
    "    i = torch.LongTensor(indices)\n",
    "    v = torch.FloatTensor(values)\n",
    "    shape = dok_mtrx_coo.shape\n",
    "\n",
    "    dok_mtrx_sparse_tensor = torch.sparse.FloatTensor(i, v, torch.Size(shape))\n",
    "\n",
    "    return dok_mtrx_sparse_tensor"
   ]
  },
  {
   "cell_type": "markdown",
   "id": "ordinary-tuesday",
   "metadata": {
    "papermill": {
     "duration": 0.040837,
     "end_time": "2021-06-27T21:44:58.693240",
     "exception": false,
     "start_time": "2021-06-27T21:44:58.652403",
     "status": "completed"
    },
    "tags": []
   },
   "source": [
    "## **Metrics**\n",
    "### Below Function gets the 4 different metrics out of Test Data -> Recall@K, Precision@K, NDCG@K, MAP@K where K is the top K items we would like to recommend to User. "
   ]
  },
  {
   "cell_type": "code",
   "execution_count": null,
   "id": "criminal-bleeding",
   "metadata": {
    "execution": {
     "iopub.execute_input": "2021-06-27T21:44:58.795297Z",
     "iopub.status.busy": "2021-06-27T21:44:58.794559Z",
     "iopub.status.idle": "2021-06-27T21:44:58.799573Z",
     "shell.execute_reply": "2021-06-27T21:44:58.800126Z",
     "shell.execute_reply.started": "2021-06-27T20:33:16.076926Z"
    },
    "papermill": {
     "duration": 0.065931,
     "end_time": "2021-06-27T21:44:58.800294",
     "exception": false,
     "start_time": "2021-06-27T21:44:58.734363",
     "status": "completed"
    },
    "tags": []
   },
   "outputs": [],
   "source": [
    "def get_metrics(user_Embed_wts, item_Embed_wts, n_users, n_items, train_data, test_data, K):\n",
    "\n",
    "    user_Embedding = nn.Embedding(user_Embed_wts.size()[0], user_Embed_wts.size()[1], _weight = user_Embed_wts)\n",
    "    item_Embedding = nn.Embedding(item_Embed_wts.size()[0], item_Embed_wts.size()[1], _weight = item_Embed_wts)\n",
    "\n",
    "    test_user_ids = torch.LongTensor(test_data['user_id_idx'].unique())\n",
    "\n",
    "    relevance_score = torch.matmul(user_Embed_wts, torch.transpose(item_Embed_wts,0, 1))\n",
    "\n",
    "    R = sp.dok_matrix((n_users, n_items), dtype = np.float32)\n",
    "    R[train_data['user_id_idx'], train_data['item_id_idx']] = 1.0\n",
    "\n",
    "    R_tensor = convert_to_sparse_tensor(R)\n",
    "    R_tensor_dense = R_tensor.to_dense()\n",
    "\n",
    "    R_tensor_dense = R_tensor_dense*(-np.inf)\n",
    "    R_tensor_dense = torch.nan_to_num(R_tensor_dense, nan=0.0)\n",
    "\n",
    "    relevance_score = relevance_score+R_tensor_dense\n",
    "\n",
    "    topk_relevance_score = torch.topk(relevance_score, K).values\n",
    "    topk_relevance_indices = torch.topk(relevance_score, K).indices\n",
    "\n",
    "    topk_relevance_indices_df = pd.DataFrame(topk_relevance_indices.numpy(),columns =['top_indx_'+str(x+1) for x in range(K)])\n",
    "\n",
    "    topk_relevance_indices_df['user_ID'] = topk_relevance_indices_df.index\n",
    " \n",
    "    topk_relevance_indices_df['top_rlvnt_itm'] = topk_relevance_indices_df[['top_indx_'+str(x+1) for x in range(K)]].values.tolist()\n",
    "    topk_relevance_indices_df = topk_relevance_indices_df[['user_ID','top_rlvnt_itm']]\n",
    "\n",
    "    test_interacted_items = test_data.groupby('user_id_idx')['item_id_idx'].apply(list).reset_index()\n",
    "\n",
    "    metrics_df = pd.merge(test_interacted_items,topk_relevance_indices_df, how= 'left', left_on = 'user_id_idx',right_on = ['user_ID'])\n",
    "    metrics_df['intrsctn_itm'] = [list(set(a).intersection(b)) for a, b in zip(metrics_df.item_id_idx, metrics_df.top_rlvnt_itm)]\n",
    "\n",
    "\n",
    "    metrics_df['recall'] = metrics_df.apply(lambda x : len(x['intrsctn_itm'])/len(x['item_id_idx']), axis = 1) \n",
    "    metrics_df['precision'] = metrics_df.apply(lambda x : len(x['intrsctn_itm'])/K, axis = 1)\n",
    "\n",
    "    def get_hit_list(item_id_idx, top_rlvnt_itm):\n",
    "        return [1 if x in set(item_id_idx) else 0 for x in top_rlvnt_itm ]\n",
    "\n",
    "    metrics_df['hit_list'] = metrics_df.apply(lambda x : get_hit_list(x['item_id_idx'], x['top_rlvnt_itm']), axis = 1)\n",
    "\n",
    "    def get_dcg_idcg(item_id_idx, hit_list):\n",
    "        idcg  = sum([1 / np.log1p(idx+1) for idx in range(min(len(item_id_idx),len(hit_list)))])\n",
    "        dcg =  sum([hit / np.log1p(idx+1) for idx, hit in enumerate(hit_list)])\n",
    "        return dcg/idcg\n",
    "\n",
    "    def get_cumsum(hit_list):\n",
    "        return np.cumsum(hit_list)\n",
    "\n",
    "    def get_map(item_id_idx, hit_list, hit_list_cumsum):\n",
    "        return sum([hit_cumsum*hit/(idx+1) for idx, (hit, hit_cumsum) in enumerate(zip(hit_list, hit_list_cumsum))])/len(item_id_idx)\n",
    "\n",
    "    metrics_df['ndcg'] = metrics_df.apply(lambda x : get_dcg_idcg(x['item_id_idx'], x['hit_list']), axis = 1)\n",
    "    metrics_df['hit_list_cumsum'] = metrics_df.apply(lambda x : get_cumsum(x['hit_list']), axis = 1)\n",
    "\n",
    "    metrics_df['map'] = metrics_df.apply(lambda x : get_map(x['item_id_idx'], x['hit_list'], x['hit_list_cumsum']), axis = 1)\n",
    "\n",
    "    return metrics_df['recall'].mean(), metrics_df['precision'].mean(), metrics_df['ndcg'].mean(), metrics_df['map'].mean() "
   ]
  },
  {
   "cell_type": "markdown",
   "id": "endangered-penetration",
   "metadata": {
    "papermill": {
     "duration": 0.041336,
     "end_time": "2021-06-27T21:44:58.883820",
     "exception": false,
     "start_time": "2021-06-27T21:44:58.842484",
     "status": "completed"
    },
    "tags": []
   },
   "source": [
    "##  **LightGCN Model**\n",
    "### **get_A_tilda** function is used to get A_tilda which will be multiplied with initial user/item embedding (E0) to create embedding at different layers (n_layers = 3) in **propagate_through_layers** function\n",
    "### **forward** function is used to look up for initial(E0) and final embedding of a user/item"
   ]
  },
  {
   "cell_type": "code",
   "execution_count": null,
   "id": "correct-tennis",
   "metadata": {
    "execution": {
     "iopub.execute_input": "2021-06-27T21:44:58.968908Z",
     "iopub.status.busy": "2021-06-27T21:44:58.968251Z",
     "iopub.status.idle": "2021-06-27T21:44:58.987383Z",
     "shell.execute_reply": "2021-06-27T21:44:58.986636Z",
     "shell.execute_reply.started": "2021-06-27T20:33:31.374336Z"
    },
    "papermill": {
     "duration": 0.062864,
     "end_time": "2021-06-27T21:44:58.987536",
     "exception": false,
     "start_time": "2021-06-27T21:44:58.924672",
     "status": "completed"
    },
    "tags": []
   },
   "outputs": [],
   "source": [
    "class LightGCN(nn.Module):\n",
    "    def __init__(self, data, n_users, n_items, n_layers, latent_dim):\n",
    "        super(LightGCN, self).__init__()\n",
    "        self.data = data\n",
    "        self.n_users = n_users\n",
    "        self.n_items = n_items\n",
    "        self.n_layers = n_layers\n",
    "        self.latent_dim = latent_dim\n",
    "        self.init_embedding()\n",
    "        self.norm_adj_mat_sparse_tensor = self.get_A_tilda()\n",
    "\n",
    "    def init_embedding(self):\n",
    "        self.E0 = nn.Embedding(self.n_users + self.n_items, self.latent_dim)\n",
    "        nn.init.xavier_uniform_(self.E0.weight)\n",
    "        self.E0.weight = nn.Parameter(self.E0.weight)\n",
    "\n",
    "    def get_A_tilda(self):\n",
    "        R = sp.dok_matrix((self.n_users, self.n_items), dtype = np.float32)\n",
    "        R[self.data['user_id_idx'], self.data['item_id_idx']] = 1.0\n",
    "\n",
    "        adj_mat = sp.dok_matrix(\n",
    "                (self.n_users + self.n_items, self.n_users + self.n_items), dtype=np.float32\n",
    "            )\n",
    "        adj_mat = adj_mat.tolil()\n",
    "        R = R.tolil()\n",
    "\n",
    "        adj_mat[: n_users, n_users :] = R\n",
    "        adj_mat[n_users :, : n_users] = R.T\n",
    "        adj_mat = adj_mat.todok()\n",
    "\n",
    "        rowsum = np.array(adj_mat.sum(1))\n",
    "        d_inv = np.power(rowsum + 1e-9, -0.5).flatten()\n",
    "        d_inv[np.isinf(d_inv)] = 0.0\n",
    "        d_mat_inv = sp.diags(d_inv)\n",
    "        norm_adj_mat = d_mat_inv.dot(adj_mat)\n",
    "        norm_adj_mat = norm_adj_mat.dot(d_mat_inv)\n",
    "        \n",
    "        # Below Code is toconvert the dok_matrix to sparse tensor.\n",
    "        \n",
    "        norm_adj_mat_coo = norm_adj_mat.tocoo().astype(np.float32)\n",
    "        values = norm_adj_mat_coo.data\n",
    "        indices = np.vstack((norm_adj_mat_coo.row, norm_adj_mat_coo.col))\n",
    "\n",
    "        i = torch.LongTensor(indices)\n",
    "        v = torch.FloatTensor(values)\n",
    "        shape = norm_adj_mat_coo.shape\n",
    "\n",
    "        norm_adj_mat_sparse_tensor = torch.sparse.FloatTensor(i, v, torch.Size(shape))\n",
    "\n",
    "        return norm_adj_mat_sparse_tensor\n",
    "    \n",
    "    def propagate_through_layers(self):\n",
    "        all_layer_embedding = [self.E0.weight]\n",
    "        E_lyr = self.E0.weight\n",
    "\n",
    "        for layer in range(self.n_layers):\n",
    "            E_lyr = torch.sparse.mm(self.norm_adj_mat_sparse_tensor, E_lyr)\n",
    "            all_layer_embedding.append(E_lyr)\n",
    "\n",
    "        all_layer_embedding = torch.stack(all_layer_embedding)\n",
    "        mean_layer_embedding = torch.mean(all_layer_embedding, axis = 0)\n",
    "\n",
    "        final_user_Embed, final_item_Embed = torch.split(mean_layer_embedding, [n_users, n_items])\n",
    "        initial_user_Embed, initial_item_Embed = torch.split(self.E0.weight, [n_users, n_items])\n",
    "\n",
    "        return final_user_Embed, final_item_Embed, initial_user_Embed, initial_item_Embed\n",
    "\n",
    "    def forward(self, users, pos_items, neg_items):\n",
    "        final_user_Embed, final_item_Embed, initial_user_Embed, initial_item_Embed = self.propagate_through_layers()\n",
    "\n",
    "        users_emb, pos_emb, neg_emb = final_user_Embed[users], final_item_Embed[pos_items], final_item_Embed[neg_items]\n",
    "        userEmb0,  posEmb0, negEmb0 = initial_user_Embed[users], initial_item_Embed[pos_items], initial_item_Embed[neg_items]\n",
    "\n",
    "        return users_emb, pos_emb, neg_emb, userEmb0,  posEmb0, negEmb0"
   ]
  },
  {
   "cell_type": "code",
   "execution_count": null,
   "id": "careful-dollar",
   "metadata": {
    "execution": {
     "iopub.execute_input": "2021-06-27T21:44:59.073234Z",
     "iopub.status.busy": "2021-06-27T21:44:59.072606Z",
     "iopub.status.idle": "2021-06-27T21:44:59.829256Z",
     "shell.execute_reply": "2021-06-27T21:44:59.828422Z",
     "shell.execute_reply.started": "2021-06-27T20:33:35.180754Z"
    },
    "papermill": {
     "duration": 0.800473,
     "end_time": "2021-06-27T21:44:59.829480",
     "exception": false,
     "start_time": "2021-06-27T21:44:59.029007",
     "status": "completed"
    },
    "tags": []
   },
   "outputs": [],
   "source": [
    "lightGCN = LightGCN(train, n_users, n_items, n_layers, latent_dim)"
   ]
  },
  {
   "cell_type": "code",
   "execution_count": null,
   "id": "yellow-caribbean",
   "metadata": {
    "execution": {
     "iopub.execute_input": "2021-06-27T21:44:59.932029Z",
     "iopub.status.busy": "2021-06-27T21:44:59.930939Z",
     "iopub.status.idle": "2021-06-27T21:44:59.936373Z",
     "shell.execute_reply": "2021-06-27T21:44:59.935486Z",
     "shell.execute_reply.started": "2021-06-27T20:33:38.129443Z"
    },
    "papermill": {
     "duration": 0.056958,
     "end_time": "2021-06-27T21:44:59.936574",
     "exception": false,
     "start_time": "2021-06-27T21:44:59.879616",
     "status": "completed"
    },
    "tags": []
   },
   "outputs": [],
   "source": [
    "print(\"Size of Learnable Embedding : \", list(lightGCN.parameters())[0].size())"
   ]
  },
  {
   "cell_type": "markdown",
   "id": "ahead-calgary",
   "metadata": {
    "papermill": {
     "duration": 0.043097,
     "end_time": "2021-06-27T21:45:00.028159",
     "exception": false,
     "start_time": "2021-06-27T21:44:59.985062",
     "status": "completed"
    },
    "tags": []
   },
   "source": [
    "### **BPR Loss**"
   ]
  },
  {
   "cell_type": "code",
   "execution_count": null,
   "id": "monetary-farming",
   "metadata": {
    "execution": {
     "iopub.execute_input": "2021-06-27T21:45:00.119360Z",
     "iopub.status.busy": "2021-06-27T21:45:00.118394Z",
     "iopub.status.idle": "2021-06-27T21:45:00.125929Z",
     "shell.execute_reply": "2021-06-27T21:45:00.126505Z",
     "shell.execute_reply.started": "2021-06-27T20:33:40.34334Z"
    },
    "papermill": {
     "duration": 0.05432,
     "end_time": "2021-06-27T21:45:00.126684",
     "exception": false,
     "start_time": "2021-06-27T21:45:00.072364",
     "status": "completed"
    },
    "tags": []
   },
   "outputs": [],
   "source": [
    "def bpr_loss(users, users_emb, pos_emb, neg_emb, userEmb0,  posEmb0, negEmb0):\n",
    "  \n",
    "    reg_loss = (1/2)*(userEmb0.norm().pow(2) + \n",
    "                    posEmb0.norm().pow(2)  +\n",
    "                    negEmb0.norm().pow(2))/float(len(users))\n",
    "    pos_scores = torch.mul(users_emb, pos_emb)\n",
    "    pos_scores = torch.sum(pos_scores, dim=1)\n",
    "    neg_scores = torch.mul(users_emb, neg_emb)\n",
    "    neg_scores = torch.sum(neg_scores, dim=1)\n",
    "        \n",
    "    loss = torch.mean(torch.nn.functional.softplus(neg_scores - pos_scores))\n",
    "        \n",
    "    return loss, reg_loss"
   ]
  },
  {
   "cell_type": "markdown",
   "id": "offensive-extraction",
   "metadata": {
    "papermill": {
     "duration": 0.042009,
     "end_time": "2021-06-27T21:45:00.212250",
     "exception": false,
     "start_time": "2021-06-27T21:45:00.170241",
     "status": "completed"
    },
    "tags": []
   },
   "source": [
    "### Data Loader - Samples users and for each user it sample 1 postive item - which User interacted with in Training Data and 1 negative item - with which User have not interacted."
   ]
  },
  {
   "cell_type": "code",
   "execution_count": null,
   "id": "extensive-moisture",
   "metadata": {
    "execution": {
     "iopub.execute_input": "2021-06-27T21:45:00.300618Z",
     "iopub.status.busy": "2021-06-27T21:45:00.299648Z",
     "iopub.status.idle": "2021-06-27T21:45:00.308681Z",
     "shell.execute_reply": "2021-06-27T21:45:00.309267Z",
     "shell.execute_reply.started": "2021-06-27T20:34:04.597173Z"
    },
    "papermill": {
     "duration": 0.05497,
     "end_time": "2021-06-27T21:45:00.309434",
     "exception": false,
     "start_time": "2021-06-27T21:45:00.254464",
     "status": "completed"
    },
    "tags": []
   },
   "outputs": [],
   "source": [
    "def data_loader(data, batch_size, n_usr, n_itm):\n",
    "  \n",
    "    interected_items_df = data.groupby('user_id_idx')['item_id_idx'].apply(list).reset_index()\n",
    "  \n",
    "    def sample_neg(x):\n",
    "        while True:\n",
    "            neg_id = random.randint(0, n_itm - 1)\n",
    "            if neg_id not in x:\n",
    "                return neg_id\n",
    "  \n",
    "    indices = [x for x in range(n_usr)]\n",
    "    \n",
    "    if n_usr < batch_size:\n",
    "        users = [random.choice(indices) for _ in range(batch_size)]\n",
    "    else:\n",
    "        users = random.sample(indices, batch_size)\n",
    "\n",
    "    users.sort()\n",
    "  \n",
    "    users_df = pd.DataFrame(users,columns = ['users'])\n",
    "\n",
    "    interected_items_df = pd.merge(interected_items_df, users_df, how = 'right', left_on = 'user_id_idx', right_on = 'users')\n",
    "  \n",
    "    pos_items = interected_items_df['item_id_idx'].apply(lambda x : random.choice(x)).values\n",
    "\n",
    "    neg_items = interected_items_df['item_id_idx'].apply(lambda x: sample_neg(x)).values\n",
    "\n",
    "    return list(users), list(pos_items), list(neg_items)"
   ]
  },
  {
   "cell_type": "code",
   "execution_count": null,
   "id": "fleet-repeat",
   "metadata": {
    "execution": {
     "iopub.execute_input": "2021-06-27T21:45:00.400553Z",
     "iopub.status.busy": "2021-06-27T21:45:00.399892Z",
     "iopub.status.idle": "2021-06-27T21:45:00.402347Z",
     "shell.execute_reply": "2021-06-27T21:45:00.402816Z",
     "shell.execute_reply.started": "2021-06-27T20:33:44.244871Z"
    },
    "papermill": {
     "duration": 0.051508,
     "end_time": "2021-06-27T21:45:00.402980",
     "exception": false,
     "start_time": "2021-06-27T21:45:00.351472",
     "status": "completed"
    },
    "tags": []
   },
   "outputs": [],
   "source": [
    "optimizer = torch.optim.Adam(lightGCN.parameters(), lr = 0.005)"
   ]
  },
  {
   "cell_type": "code",
   "execution_count": null,
   "id": "adjusted-essex",
   "metadata": {
    "execution": {
     "iopub.execute_input": "2021-06-27T21:45:00.493171Z",
     "iopub.status.busy": "2021-06-27T21:45:00.492485Z",
     "iopub.status.idle": "2021-06-27T21:45:00.495754Z",
     "shell.execute_reply": "2021-06-27T21:45:00.495158Z",
     "shell.execute_reply.started": "2021-06-27T20:33:49.698359Z"
    },
    "papermill": {
     "duration": 0.050262,
     "end_time": "2021-06-27T21:45:00.495897",
     "exception": false,
     "start_time": "2021-06-27T21:45:00.445635",
     "status": "completed"
    },
    "tags": []
   },
   "outputs": [],
   "source": [
    "EPOCHS = 30\n",
    "BATCH_SIZE = 1024 \n",
    "DECAY = 0.0001\n",
    "K = 10"
   ]
  },
  {
   "cell_type": "markdown",
   "id": "varied-system",
   "metadata": {
    "papermill": {
     "duration": 0.041039,
     "end_time": "2021-06-27T21:45:00.579561",
     "exception": false,
     "start_time": "2021-06-27T21:45:00.538522",
     "status": "completed"
    },
    "tags": []
   },
   "source": [
    "### **Training Loop**"
   ]
  },
  {
   "cell_type": "code",
   "execution_count": null,
   "id": "abandoned-sandwich",
   "metadata": {
    "execution": {
     "iopub.execute_input": "2021-06-27T21:45:00.670986Z",
     "iopub.status.busy": "2021-06-27T21:45:00.670319Z",
     "iopub.status.idle": "2021-06-27T21:49:18.942547Z",
     "shell.execute_reply": "2021-06-27T21:49:18.943043Z",
     "shell.execute_reply.started": "2021-06-27T20:34:12.936689Z"
    },
    "papermill": {
     "duration": 258.322268,
     "end_time": "2021-06-27T21:49:18.943245",
     "exception": false,
     "start_time": "2021-06-27T21:45:00.620977",
     "status": "completed"
    },
    "tags": []
   },
   "outputs": [],
   "source": [
    "loss_list_epoch = []\n",
    "MF_loss_list_epoch = []\n",
    "reg_loss_list_epoch = []\n",
    "\n",
    "recall_list = []\n",
    "precision_list = []\n",
    "ndcg_list = []\n",
    "map_list = []\n",
    "\n",
    "train_time_list = []\n",
    "eval_time_list = [] \n",
    "\n",
    "for epoch in tqdm(range(EPOCHS)):\n",
    "    n_batch = int(len(train)/BATCH_SIZE)\n",
    "  \n",
    "    final_loss_list = []\n",
    "    MF_loss_list = []\n",
    "    reg_loss_list = []\n",
    "  \n",
    "    best_ndcg = -1\n",
    "  \n",
    "    train_start_time = time.time()\n",
    "    lightGCN.train()\n",
    "    for batch_idx in range(n_batch):\n",
    "\n",
    "        optimizer.zero_grad()\n",
    "\n",
    "        users, pos_items, neg_items = data_loader(train, BATCH_SIZE, n_users, n_items)\n",
    "\n",
    "        users_emb, pos_emb, neg_emb, userEmb0,  posEmb0, negEmb0 = lightGCN.forward(users, pos_items, neg_items)\n",
    "\n",
    "        mf_loss, reg_loss = bpr_loss(users, users_emb, pos_emb, neg_emb, userEmb0,  posEmb0, negEmb0)\n",
    "        reg_loss = DECAY * reg_loss\n",
    "        final_loss = mf_loss + reg_loss\n",
    "\n",
    "        final_loss.backward()\n",
    "        optimizer.step()\n",
    "\n",
    "        final_loss_list.append(final_loss.item())\n",
    "        MF_loss_list.append(mf_loss.item())\n",
    "        reg_loss_list.append(reg_loss.item())\n",
    "\n",
    "\n",
    "    train_end_time = time.time()\n",
    "    train_time = train_end_time - train_start_time\n",
    "\n",
    "    lightGCN.eval()\n",
    "    with torch.no_grad():\n",
    "    \n",
    "        final_user_Embed, final_item_Embed, initial_user_Embed,initial_item_Embed = lightGCN.propagate_through_layers()\n",
    "        test_topK_recall,  test_topK_precision, test_topK_ndcg, test_topK_map  = get_metrics(final_user_Embed, final_item_Embed, n_users, n_items, train, test, K)\n",
    "\n",
    "\n",
    "    if test_topK_ndcg > best_ndcg:\n",
    "        best_ndcg = test_topK_ndcg\n",
    "      \n",
    "        torch.save(final_user_Embed, 'final_user_Embed.pt')\n",
    "        torch.save(final_item_Embed, 'final_item_Embed.pt')\n",
    "        torch.save(initial_user_Embed, 'initial_user_Embed.pt')\n",
    "        torch.save(initial_item_Embed, 'initial_item_Embed.pt')\n",
    "     \n",
    "\n",
    "    eval_time = time.time() - train_end_time\n",
    "\n",
    "    loss_list_epoch.append(round(np.mean(final_loss_list),4))\n",
    "    MF_loss_list_epoch.append(round(np.mean(MF_loss_list),4))\n",
    "    reg_loss_list_epoch.append(round(np.mean(reg_loss_list),4))\n",
    "\n",
    "    recall_list.append(round(test_topK_recall,4))\n",
    "    precision_list.append(round(test_topK_precision,4))\n",
    "    ndcg_list.append(round(test_topK_ndcg,4))\n",
    "    map_list.append(round(test_topK_map,4))\n",
    "\n",
    "    train_time_list.append(train_time)\n",
    "    eval_time_list.append(eval_time)  "
   ]
  },
  {
   "cell_type": "code",
   "execution_count": null,
   "id": "subtle-vegetation",
   "metadata": {
    "execution": {
     "iopub.execute_input": "2021-06-27T21:49:19.031105Z",
     "iopub.status.busy": "2021-06-27T21:49:19.030114Z",
     "iopub.status.idle": "2021-06-27T21:49:19.034429Z",
     "shell.execute_reply": "2021-06-27T21:49:19.034972Z",
     "shell.execute_reply.started": "2021-06-27T20:39:10.395175Z"
    },
    "papermill": {
     "duration": 0.049921,
     "end_time": "2021-06-27T21:49:19.035162",
     "exception": false,
     "start_time": "2021-06-27T21:49:18.985241",
     "status": "completed"
    },
    "tags": []
   },
   "outputs": [],
   "source": [
    "epoch_list = [(i+1) for i in range(EPOCHS)]"
   ]
  },
  {
   "cell_type": "code",
   "execution_count": null,
   "id": "subjective-coordinator",
   "metadata": {
    "execution": {
     "iopub.execute_input": "2021-06-27T21:49:19.122621Z",
     "iopub.status.busy": "2021-06-27T21:49:19.121693Z",
     "iopub.status.idle": "2021-06-27T21:49:19.345747Z",
     "shell.execute_reply": "2021-06-27T21:49:19.345138Z",
     "shell.execute_reply.started": "2021-06-27T20:39:12.438858Z"
    },
    "papermill": {
     "duration": 0.268525,
     "end_time": "2021-06-27T21:49:19.345891",
     "exception": false,
     "start_time": "2021-06-27T21:49:19.077366",
     "status": "completed"
    },
    "tags": []
   },
   "outputs": [],
   "source": [
    "plt.plot(epoch_list, recall_list, label='Recall')\n",
    "plt.plot(epoch_list, precision_list, label='Precision')\n",
    "plt.plot(epoch_list, ndcg_list, label='NDCG')\n",
    "plt.plot(epoch_list, map_list, label='MAP')\n",
    "plt.xlabel('Epoch')\n",
    "plt.ylabel('Metrics')\n",
    "plt.legend()"
   ]
  },
  {
   "cell_type": "code",
   "execution_count": null,
   "id": "figured-notion",
   "metadata": {
    "execution": {
     "iopub.execute_input": "2021-06-27T21:49:19.465382Z",
     "iopub.status.busy": "2021-06-27T21:49:19.459066Z",
     "iopub.status.idle": "2021-06-27T21:49:19.607973Z",
     "shell.execute_reply": "2021-06-27T21:49:19.607448Z",
     "shell.execute_reply.started": "2021-06-27T20:39:26.415884Z"
    },
    "papermill": {
     "duration": 0.219191,
     "end_time": "2021-06-27T21:49:19.608123",
     "exception": false,
     "start_time": "2021-06-27T21:49:19.388932",
     "status": "completed"
    },
    "tags": []
   },
   "outputs": [],
   "source": [
    "plt.plot(epoch_list, loss_list_epoch, label='Total Training Loss')\n",
    "plt.plot(epoch_list, MF_loss_list_epoch, label='MF Training Loss')\n",
    "plt.plot(epoch_list, reg_loss_list_epoch, label='Reg Training Loss')\n",
    "\n",
    "plt.xlabel('Epoch')\n",
    "plt.ylabel('Loss')\n",
    "plt.legend()"
   ]
  },
  {
   "cell_type": "code",
   "execution_count": null,
   "id": "caring-special",
   "metadata": {
    "execution": {
     "iopub.execute_input": "2021-06-27T21:49:19.702186Z",
     "iopub.status.busy": "2021-06-27T21:49:19.701534Z",
     "iopub.status.idle": "2021-06-27T21:49:19.704944Z",
     "shell.execute_reply": "2021-06-27T21:49:19.705460Z",
     "shell.execute_reply.started": "2021-06-27T20:39:35.778051Z"
    },
    "papermill": {
     "duration": 0.053484,
     "end_time": "2021-06-27T21:49:19.705625",
     "exception": false,
     "start_time": "2021-06-27T21:49:19.652141",
     "status": "completed"
    },
    "tags": []
   },
   "outputs": [],
   "source": [
    "print(\"Averge time taken to train an epoch -> \", round(np.mean(train_time_list),2), \" seconds\")\n",
    "print(\"Averge time taken to eval an epoch -> \", round(np.mean(eval_time_list),2), \" seconds\")"
   ]
  },
  {
   "cell_type": "code",
   "execution_count": null,
   "id": "wound-bulletin",
   "metadata": {
    "execution": {
     "iopub.execute_input": "2021-06-27T21:49:19.800250Z",
     "iopub.status.busy": "2021-06-27T21:49:19.799593Z",
     "iopub.status.idle": "2021-06-27T21:49:19.804786Z",
     "shell.execute_reply": "2021-06-27T21:49:19.805281Z",
     "shell.execute_reply.started": "2021-06-27T20:40:11.483668Z"
    },
    "papermill": {
     "duration": 0.055573,
     "end_time": "2021-06-27T21:49:19.805457",
     "exception": false,
     "start_time": "2021-06-27T21:49:19.749884",
     "status": "completed"
    },
    "tags": []
   },
   "outputs": [],
   "source": [
    "print(\"Last Epoch's Test Data Recall -> \", recall_list[-1])\n",
    "print(\"Last Epoch's Test Data Precision -> \", precision_list[-1])\n",
    "print(\"Last Epoch's Test Data NDCG -> \", ndcg_list[-1])\n",
    "print(\"Last Epoch's Test Data MAP -> \", map_list[-1])\n",
    "\n",
    "print(\"Last Epoch's Train Data Loss -> \", loss_list_epoch[-1])"
   ]
  }
 ],
 "metadata": {
  "kernelspec": {
   "display_name": "Python 3 (ipykernel)",
   "language": "python",
   "name": "python3"
  },
  "language_info": {
   "codemirror_mode": {
    "name": "ipython",
    "version": 3
   },
   "file_extension": ".py",
   "mimetype": "text/x-python",
   "name": "python",
   "nbconvert_exporter": "python",
   "pygments_lexer": "ipython3",
   "version": "3.7.15"
  },
  "papermill": {
   "default_parameters": {},
   "duration": 518.091969,
   "end_time": "2021-06-27T21:52:00.961273",
   "environment_variables": {},
   "exception": null,
   "input_path": "__notebook__.ipynb",
   "output_path": "__notebook__.ipynb",
   "parameters": {},
   "start_time": "2021-06-27T21:43:22.869304",
   "version": "2.3.3"
  },
  "widgets": {
   "application/vnd.jupyter.widget-state+json": {
    "state": {
     "248914b97ea04a59b451c15465850281": {
      "model_module": "@jupyter-widgets/controls",
      "model_module_version": "1.5.0",
      "model_name": "DescriptionStyleModel",
      "state": {
       "_model_module": "@jupyter-widgets/controls",
       "_model_module_version": "1.5.0",
       "_model_name": "DescriptionStyleModel",
       "_view_count": null,
       "_view_module": "@jupyter-widgets/base",
       "_view_module_version": "1.2.0",
       "_view_name": "StyleView",
       "description_width": ""
      }
     },
     "24f7d8044fe64287bc7200a063b74129": {
      "model_module": "@jupyter-widgets/base",
      "model_module_version": "1.2.0",
      "model_name": "LayoutModel",
      "state": {
       "_model_module": "@jupyter-widgets/base",
       "_model_module_version": "1.2.0",
       "_model_name": "LayoutModel",
       "_view_count": null,
       "_view_module": "@jupyter-widgets/base",
       "_view_module_version": "1.2.0",
       "_view_name": "LayoutView",
       "align_content": null,
       "align_items": null,
       "align_self": null,
       "border": null,
       "bottom": null,
       "display": null,
       "flex": null,
       "flex_flow": null,
       "grid_area": null,
       "grid_auto_columns": null,
       "grid_auto_flow": null,
       "grid_auto_rows": null,
       "grid_column": null,
       "grid_gap": null,
       "grid_row": null,
       "grid_template_areas": null,
       "grid_template_columns": null,
       "grid_template_rows": null,
       "height": null,
       "justify_content": null,
       "justify_items": null,
       "left": null,
       "margin": null,
       "max_height": null,
       "max_width": null,
       "min_height": null,
       "min_width": null,
       "object_fit": null,
       "object_position": null,
       "order": null,
       "overflow": null,
       "overflow_x": null,
       "overflow_y": null,
       "padding": null,
       "right": null,
       "top": null,
       "visibility": null,
       "width": null
      }
     },
     "32b9b6c2a8af4af6ba4ecb96947f39d9": {
      "model_module": "@jupyter-widgets/controls",
      "model_module_version": "1.5.0",
      "model_name": "ProgressStyleModel",
      "state": {
       "_model_module": "@jupyter-widgets/controls",
       "_model_module_version": "1.5.0",
       "_model_name": "ProgressStyleModel",
       "_view_count": null,
       "_view_module": "@jupyter-widgets/base",
       "_view_module_version": "1.2.0",
       "_view_name": "StyleView",
       "bar_color": null,
       "description_width": ""
      }
     },
     "3ebea7d02a5441e1ab3edad7ad8e5290": {
      "model_module": "@jupyter-widgets/controls",
      "model_module_version": "1.5.0",
      "model_name": "HBoxModel",
      "state": {
       "_dom_classes": [],
       "_model_module": "@jupyter-widgets/controls",
       "_model_module_version": "1.5.0",
       "_model_name": "HBoxModel",
       "_view_count": null,
       "_view_module": "@jupyter-widgets/controls",
       "_view_module_version": "1.5.0",
       "_view_name": "HBoxView",
       "box_style": "",
       "children": [
        "IPY_MODEL_ad7051064f074a35aebff9180c04dbfd",
        "IPY_MODEL_873ecc815d7444aaae399357bda8c627",
        "IPY_MODEL_4d7042eb611a4868a84cdcdb0c1fa442"
       ],
       "layout": "IPY_MODEL_a9d35c41d5f74e7f90a5c6b2570479b3"
      }
     },
     "4d7042eb611a4868a84cdcdb0c1fa442": {
      "model_module": "@jupyter-widgets/controls",
      "model_module_version": "1.5.0",
      "model_name": "HTMLModel",
      "state": {
       "_dom_classes": [],
       "_model_module": "@jupyter-widgets/controls",
       "_model_module_version": "1.5.0",
       "_model_name": "HTMLModel",
       "_view_count": null,
       "_view_module": "@jupyter-widgets/controls",
       "_view_module_version": "1.5.0",
       "_view_name": "HTMLView",
       "description": "",
       "description_tooltip": null,
       "layout": "IPY_MODEL_f9626ea584584a79856bdeefb501958f",
       "placeholder": "​",
       "style": "IPY_MODEL_bf0a87c4bae34a0596ef7cdd520e62f9",
       "value": " 30/30 [04:18&lt;00:00,  8.61s/it]"
      }
     },
     "873ecc815d7444aaae399357bda8c627": {
      "model_module": "@jupyter-widgets/controls",
      "model_module_version": "1.5.0",
      "model_name": "FloatProgressModel",
      "state": {
       "_dom_classes": [],
       "_model_module": "@jupyter-widgets/controls",
       "_model_module_version": "1.5.0",
       "_model_name": "FloatProgressModel",
       "_view_count": null,
       "_view_module": "@jupyter-widgets/controls",
       "_view_module_version": "1.5.0",
       "_view_name": "ProgressView",
       "bar_style": "success",
       "description": "",
       "description_tooltip": null,
       "layout": "IPY_MODEL_24f7d8044fe64287bc7200a063b74129",
       "max": 30,
       "min": 0,
       "orientation": "horizontal",
       "style": "IPY_MODEL_32b9b6c2a8af4af6ba4ecb96947f39d9",
       "value": 30
      }
     },
     "a9d35c41d5f74e7f90a5c6b2570479b3": {
      "model_module": "@jupyter-widgets/base",
      "model_module_version": "1.2.0",
      "model_name": "LayoutModel",
      "state": {
       "_model_module": "@jupyter-widgets/base",
       "_model_module_version": "1.2.0",
       "_model_name": "LayoutModel",
       "_view_count": null,
       "_view_module": "@jupyter-widgets/base",
       "_view_module_version": "1.2.0",
       "_view_name": "LayoutView",
       "align_content": null,
       "align_items": null,
       "align_self": null,
       "border": null,
       "bottom": null,
       "display": null,
       "flex": null,
       "flex_flow": null,
       "grid_area": null,
       "grid_auto_columns": null,
       "grid_auto_flow": null,
       "grid_auto_rows": null,
       "grid_column": null,
       "grid_gap": null,
       "grid_row": null,
       "grid_template_areas": null,
       "grid_template_columns": null,
       "grid_template_rows": null,
       "height": null,
       "justify_content": null,
       "justify_items": null,
       "left": null,
       "margin": null,
       "max_height": null,
       "max_width": null,
       "min_height": null,
       "min_width": null,
       "object_fit": null,
       "object_position": null,
       "order": null,
       "overflow": null,
       "overflow_x": null,
       "overflow_y": null,
       "padding": null,
       "right": null,
       "top": null,
       "visibility": null,
       "width": null
      }
     },
     "ad7051064f074a35aebff9180c04dbfd": {
      "model_module": "@jupyter-widgets/controls",
      "model_module_version": "1.5.0",
      "model_name": "HTMLModel",
      "state": {
       "_dom_classes": [],
       "_model_module": "@jupyter-widgets/controls",
       "_model_module_version": "1.5.0",
       "_model_name": "HTMLModel",
       "_view_count": null,
       "_view_module": "@jupyter-widgets/controls",
       "_view_module_version": "1.5.0",
       "_view_name": "HTMLView",
       "description": "",
       "description_tooltip": null,
       "layout": "IPY_MODEL_ff3e342225ba446b9d99d9af0660cd83",
       "placeholder": "​",
       "style": "IPY_MODEL_248914b97ea04a59b451c15465850281",
       "value": "100%"
      }
     },
     "bf0a87c4bae34a0596ef7cdd520e62f9": {
      "model_module": "@jupyter-widgets/controls",
      "model_module_version": "1.5.0",
      "model_name": "DescriptionStyleModel",
      "state": {
       "_model_module": "@jupyter-widgets/controls",
       "_model_module_version": "1.5.0",
       "_model_name": "DescriptionStyleModel",
       "_view_count": null,
       "_view_module": "@jupyter-widgets/base",
       "_view_module_version": "1.2.0",
       "_view_name": "StyleView",
       "description_width": ""
      }
     },
     "f9626ea584584a79856bdeefb501958f": {
      "model_module": "@jupyter-widgets/base",
      "model_module_version": "1.2.0",
      "model_name": "LayoutModel",
      "state": {
       "_model_module": "@jupyter-widgets/base",
       "_model_module_version": "1.2.0",
       "_model_name": "LayoutModel",
       "_view_count": null,
       "_view_module": "@jupyter-widgets/base",
       "_view_module_version": "1.2.0",
       "_view_name": "LayoutView",
       "align_content": null,
       "align_items": null,
       "align_self": null,
       "border": null,
       "bottom": null,
       "display": null,
       "flex": null,
       "flex_flow": null,
       "grid_area": null,
       "grid_auto_columns": null,
       "grid_auto_flow": null,
       "grid_auto_rows": null,
       "grid_column": null,
       "grid_gap": null,
       "grid_row": null,
       "grid_template_areas": null,
       "grid_template_columns": null,
       "grid_template_rows": null,
       "height": null,
       "justify_content": null,
       "justify_items": null,
       "left": null,
       "margin": null,
       "max_height": null,
       "max_width": null,
       "min_height": null,
       "min_width": null,
       "object_fit": null,
       "object_position": null,
       "order": null,
       "overflow": null,
       "overflow_x": null,
       "overflow_y": null,
       "padding": null,
       "right": null,
       "top": null,
       "visibility": null,
       "width": null
      }
     },
     "ff3e342225ba446b9d99d9af0660cd83": {
      "model_module": "@jupyter-widgets/base",
      "model_module_version": "1.2.0",
      "model_name": "LayoutModel",
      "state": {
       "_model_module": "@jupyter-widgets/base",
       "_model_module_version": "1.2.0",
       "_model_name": "LayoutModel",
       "_view_count": null,
       "_view_module": "@jupyter-widgets/base",
       "_view_module_version": "1.2.0",
       "_view_name": "LayoutView",
       "align_content": null,
       "align_items": null,
       "align_self": null,
       "border": null,
       "bottom": null,
       "display": null,
       "flex": null,
       "flex_flow": null,
       "grid_area": null,
       "grid_auto_columns": null,
       "grid_auto_flow": null,
       "grid_auto_rows": null,
       "grid_column": null,
       "grid_gap": null,
       "grid_row": null,
       "grid_template_areas": null,
       "grid_template_columns": null,
       "grid_template_rows": null,
       "height": null,
       "justify_content": null,
       "justify_items": null,
       "left": null,
       "margin": null,
       "max_height": null,
       "max_width": null,
       "min_height": null,
       "min_width": null,
       "object_fit": null,
       "object_position": null,
       "order": null,
       "overflow": null,
       "overflow_x": null,
       "overflow_y": null,
       "padding": null,
       "right": null,
       "top": null,
       "visibility": null,
       "width": null
      }
     }
    },
    "version_major": 2,
    "version_minor": 0
   }
  }
 },
 "nbformat": 4,
 "nbformat_minor": 5
}
